{
 "cells": [
  {
   "cell_type": "code",
   "execution_count": 9,
   "id": "c028e221-e1c7-4b7d-86bd-3b5b1e0cec26",
   "metadata": {},
   "outputs": [
    {
     "data": {
      "text/html": [
       "<div>\n",
       "<style scoped>\n",
       "    .dataframe tbody tr th:only-of-type {\n",
       "        vertical-align: middle;\n",
       "    }\n",
       "\n",
       "    .dataframe tbody tr th {\n",
       "        vertical-align: top;\n",
       "    }\n",
       "\n",
       "    .dataframe thead th {\n",
       "        text-align: right;\n",
       "    }\n",
       "</style>\n",
       "<table border=\"1\" class=\"dataframe\">\n",
       "  <thead>\n",
       "    <tr style=\"text-align: right;\">\n",
       "      <th></th>\n",
       "      <th>student_id</th>\n",
       "      <th>math_score</th>\n",
       "      <th>english_score</th>\n",
       "      <th>gender</th>\n",
       "      <th>school_type</th>\n",
       "    </tr>\n",
       "  </thead>\n",
       "  <tbody>\n",
       "    <tr>\n",
       "      <th>0</th>\n",
       "      <td>1</td>\n",
       "      <td>75</td>\n",
       "      <td>82</td>\n",
       "      <td>F</td>\n",
       "      <td>public</td>\n",
       "    </tr>\n",
       "    <tr>\n",
       "      <th>1</th>\n",
       "      <td>2</td>\n",
       "      <td>88</td>\n",
       "      <td>79</td>\n",
       "      <td>M</td>\n",
       "      <td>private</td>\n",
       "    </tr>\n",
       "    <tr>\n",
       "      <th>2</th>\n",
       "      <td>3</td>\n",
       "      <td>95</td>\n",
       "      <td>91</td>\n",
       "      <td>M</td>\n",
       "      <td>private</td>\n",
       "    </tr>\n",
       "    <tr>\n",
       "      <th>3</th>\n",
       "      <td>4</td>\n",
       "      <td>65</td>\n",
       "      <td>70</td>\n",
       "      <td>F</td>\n",
       "      <td>public</td>\n",
       "    </tr>\n",
       "    <tr>\n",
       "      <th>4</th>\n",
       "      <td>5</td>\n",
       "      <td>50</td>\n",
       "      <td>60</td>\n",
       "      <td>F</td>\n",
       "      <td>public</td>\n",
       "    </tr>\n",
       "  </tbody>\n",
       "</table>\n",
       "</div>"
      ],
      "text/plain": [
       "   student_id  math_score  english_score gender school_type\n",
       "0           1          75             82      F      public\n",
       "1           2          88             79      M     private\n",
       "2           3          95             91      M     private\n",
       "3           4          65             70      F      public\n",
       "4           5          50             60      F      public"
      ]
     },
     "execution_count": 9,
     "metadata": {},
     "output_type": "execute_result"
    }
   ],
   "source": [
    "import pandas as pd\n",
    "\n",
    "df = pd.DataFrame({'student_id':[1, 2, 3, 4, 5], 'math_score':[75, 88, 95, 65, 50], 'english_score':[82, 79, 91, 70, 60], 'gender':['F', 'M', 'M', 'F', 'F'], 'school_type':['public', 'private', 'private', 'public', 'public']})\n",
    "\n",
    "df.head()"
   ]
  },
  {
   "cell_type": "code",
   "execution_count": 23,
   "id": "41721e1e-2dfa-448b-ba84-a68d3c54fa68",
   "metadata": {},
   "outputs": [
    {
     "name": "stdout",
     "output_type": "stream",
     "text": [
      "   student_id  math_score  english_score gender school_type    math_z  \\\n",
      "0           1          75             82      F      public  0.024872   \n",
      "1           2          88             79      M     private  0.833215   \n",
      "2           3          95             91      M     private  1.268476   \n",
      "3           4          65             70      F      public -0.596930   \n",
      "4           5          50             60      F      public -1.529633   \n",
      "\n",
      "   english_z  \n",
      "0   0.528584  \n",
      "1   0.245414  \n",
      "2   1.378095  \n",
      "3  -0.604096  \n",
      "4  -1.547997  \n"
     ]
    }
   ],
   "source": [
    "# Standardizing (z-score)\n",
    "from sklearn.preprocessing import StandardScaler\n",
    "\n",
    "scaler_z = StandardScaler() # Initializing object\n",
    "scaled_z = scaler_z.fit_transform(df[['math_score', 'english_score']]) # .fit() = find mean and std, .transform() = standardizing\n",
    "\n",
    "df_scaled_z = df.copy() # Keep the original data clean\n",
    "df_scaled_z[['math_z', 'english_z']] = scaled_z\n",
    "print(df_scaled_z)"
   ]
  },
  {
   "cell_type": "code",
   "execution_count": 29,
   "id": "5892b374-7816-4fb2-bf0d-3e4f1379d494",
   "metadata": {},
   "outputs": [
    {
     "name": "stdout",
     "output_type": "stream",
     "text": [
      "   student_id  math_score  english_score gender school_type   math_mm  \\\n",
      "0           1          75             82      F      public  0.555556   \n",
      "1           2          88             79      M     private  0.844444   \n",
      "2           3          95             91      M     private  1.000000   \n",
      "3           4          65             70      F      public  0.333333   \n",
      "4           5          50             60      F      public  0.000000   \n",
      "\n",
      "   english_mm  \n",
      "0    0.709677  \n",
      "1    0.612903  \n",
      "2    1.000000  \n",
      "3    0.322581  \n",
      "4    0.000000  \n"
     ]
    }
   ],
   "source": [
    "# Normalizing (0-1 interval)\n",
    "from sklearn.preprocessing import MinMaxScaler\n",
    "\n",
    "scaler_mm = MinMaxScaler() # Initializing object\n",
    "scaled_mm = scaler_mm.fit_transform(df[['math_score', 'english_score']]) # .fit() = find max and min, .transform() = normalizing\n",
    "\n",
    "df_scaled_mm = df.copy()\n",
    "df_scaled_mm[['math_mm', 'english_mm']] = scaled_mm\n",
    "print(df_scaled_mm)"
   ]
  },
  {
   "cell_type": "code",
   "execution_count": 73,
   "id": "4b4b57a8-5e9c-48af-8a0d-4b25c5760350",
   "metadata": {},
   "outputs": [
    {
     "name": "stdout",
     "output_type": "stream",
     "text": [
      "   student_id  math_score  english_score gender school_type    math_z  \\\n",
      "0           1          75             82      F      public  0.024872   \n",
      "1           2          88             79      M     private  0.833215   \n",
      "2           3          95             91      M     private  1.268476   \n",
      "3           4          65             70      F      public -0.596930   \n",
      "4           5          50             60      F      public -1.529633   \n",
      "\n",
      "   english_z   math_mm  english_mm  \n",
      "0   0.528584  0.555556    0.709677  \n",
      "1   0.245414  0.844444    0.612903  \n",
      "2   1.378095  1.000000    1.000000  \n",
      "3  -0.604096  0.333333    0.322581  \n",
      "4  -1.547997  0.000000    0.000000  \n"
     ]
    }
   ],
   "source": [
    "df_scaled = pd.concat([df, pd.DataFrame(scaled_z, columns=['math_z', 'english_z']), pd.DataFrame(scaled_mm, columns=['math_mm', 'english_mm'])], axis = 1)\n",
    "print(df_scaled)"
   ]
  },
  {
   "cell_type": "code",
   "execution_count": 75,
   "id": "0e8e317d-5b89-4b58-80da-95a42f8e20a6",
   "metadata": {},
   "outputs": [
    {
     "name": "stdout",
     "output_type": "stream",
     "text": [
      "   student_id  math_score  english_score gender school_type  gender_label\n",
      "0           1          75             82      F      public             0\n",
      "1           2          88             79      M     private             1\n",
      "2           3          95             91      M     private             1\n",
      "3           4          65             70      F      public             0\n",
      "4           5          50             60      F      public             0\n"
     ]
    }
   ],
   "source": [
    "# Label encoding\n",
    "from sklearn.preprocessing import LabelEncoder\n",
    "\n",
    "le_gender = LabelEncoder() # Initializing\n",
    "le_gender_encode = le_gender.fit_transform(df['gender']) # .fit() = map letters to numbers, .tansform() = transform letters to numbers\n",
    "\n",
    "df_encoded_le = df.copy()\n",
    "df_encoded_le['gender_label'] = le_gender_encode\n",
    "print(df_encoded_le)"
   ]
  },
  {
   "cell_type": "code",
   "execution_count": 81,
   "id": "b7c3f2f0-9a07-49e7-ac0a-8bb7666acf41",
   "metadata": {},
   "outputs": [
    {
     "name": "stdout",
     "output_type": "stream",
     "text": [
      "   student_id  math_score  english_score gender school_type  \\\n",
      "0           1          75             82      F      public   \n",
      "1           2          88             79      M     private   \n",
      "2           3          95             91      M     private   \n",
      "3           4          65             70      F      public   \n",
      "4           5          50             60      F      public   \n",
      "\n",
      "   school_type_public  \n",
      "0                 1.0  \n",
      "1                 0.0  \n",
      "2                 0.0  \n",
      "3                 1.0  \n",
      "4                 1.0  \n"
     ]
    }
   ],
   "source": [
    "# One-hot encoding\n",
    "from sklearn.preprocessing import OneHotEncoder\n",
    "\n",
    "ohe_school = OneHotEncoder(sparse_output = False, drop = 'first') # 'drop' since we only need one column, 'drop = first' means we will drop 'public'\n",
    "ohe_school_encode = ohe.fit_transform(df[['school_type']]) # .fit() = scan all type, .transform() = transform type into number\n",
    "\n",
    "encoded_df_ohe = pd.DataFrame(ohe_school_encode, columns = ohe.get_feature_names_out(['school_type']))\n",
    "df_encoded_ohe = pd.concat([df, encoded_df_ohe], axis = 1)\n",
    "print(df_encoded_ohe)"
   ]
  },
  {
   "cell_type": "code",
   "execution_count": 83,
   "id": "634bb58b-ab56-4752-ac32-8aa33d33278d",
   "metadata": {},
   "outputs": [
    {
     "name": "stdout",
     "output_type": "stream",
     "text": [
      "   student_id  math_score  english_score gender school_type  gender_label  \\\n",
      "0           1          75             82      F      public             0   \n",
      "1           2          88             79      M     private             1   \n",
      "2           3          95             91      M     private             1   \n",
      "3           4          65             70      F      public             0   \n",
      "4           5          50             60      F      public             0   \n",
      "\n",
      "   school_type_public  \n",
      "0                 1.0  \n",
      "1                 0.0  \n",
      "2                 0.0  \n",
      "3                 1.0  \n",
      "4                 1.0  \n"
     ]
    }
   ],
   "source": [
    "df_encoded = pd.concat([df, pd.DataFrame(le_gender_encode, columns=['gender_label']), encoded_df_ohe], axis = 1)\n",
    "print(df_encoded)"
   ]
  },
  {
   "cell_type": "code",
   "execution_count": null,
   "id": "ab950db3-82f6-44a3-bd03-d1e292057dda",
   "metadata": {},
   "outputs": [],
   "source": []
  }
 ],
 "metadata": {
  "kernelspec": {
   "display_name": "Python [conda env:base] *",
   "language": "python",
   "name": "conda-base-py"
  },
  "language_info": {
   "codemirror_mode": {
    "name": "ipython",
    "version": 3
   },
   "file_extension": ".py",
   "mimetype": "text/x-python",
   "name": "python",
   "nbconvert_exporter": "python",
   "pygments_lexer": "ipython3",
   "version": "3.12.7"
  }
 },
 "nbformat": 4,
 "nbformat_minor": 5
}
