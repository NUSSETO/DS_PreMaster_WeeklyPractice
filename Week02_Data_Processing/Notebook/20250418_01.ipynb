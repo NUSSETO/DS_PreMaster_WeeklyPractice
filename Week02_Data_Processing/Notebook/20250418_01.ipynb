{
 "cells": [
  {
   "cell_type": "code",
   "execution_count": 3,
   "id": "5c5a4500-434a-4604-9e02-cff2448fd553",
   "metadata": {},
   "outputs": [
    {
     "data": {
      "text/plain": [
       "gender\n",
       "F    63.333333\n",
       "M    91.500000\n",
       "Name: math_score, dtype: float64"
      ]
     },
     "execution_count": 3,
     "metadata": {},
     "output_type": "execute_result"
    }
   ],
   "source": [
    "# Does gender really affect test result?\n",
    "import pandas as pd\n",
    "\n",
    "# Making dataset\n",
    "df =pd.DataFrame({'student_id':[1, 2, 3, 4, 5],\n",
    "                  'math_score':[75, 88, 95, 65, 50],\n",
    "                  'english_score':[82, 79, 91, 70, 60],\n",
    "                  'gender':['F', 'M', 'M', 'F', 'F'],\n",
    "                  'school_type':['public', 'private', 'private', 'public', 'public'],\n",
    "                  'final_score':[80, 85, 90, 70, 60]})\n",
    "\n",
    "df.groupby('gender')['math_score'].mean()"
   ]
  },
  {
   "cell_type": "code",
   "execution_count": 7,
   "id": "c99d8a6a-7f9c-4a3e-9649-34d122e37397",
   "metadata": {},
   "outputs": [
    {
     "name": "stdout",
     "output_type": "stream",
     "text": [
      "t-test: -2.893366231314317\n",
      "p-value: 0.06284049906545207\n"
     ]
    }
   ],
   "source": [
    "# t-test\n",
    "from scipy.stats import ttest_ind\n",
    "\n",
    "group_f = df[df['gender'] == 'F']['math_score']\n",
    "group_m = df[df['gender'] == 'M']['math_score']\n",
    "\n",
    "t_stat, p_value = ttest_ind(group_f, group_m)\n",
    "\n",
    "print('t-test:', t_stat)\n",
    "print('p-value:', p_value)"
   ]
  },
  {
   "cell_type": "code",
   "execution_count": 11,
   "id": "3e21efcd-f0e5-468d-93a1-39c29fc8360b",
   "metadata": {},
   "outputs": [
    {
     "name": "stdout",
     "output_type": "stream",
     "text": [
      "                            OLS Regression Results                            \n",
      "==============================================================================\n",
      "Dep. Variable:             math_score   R-squared:                       0.736\n",
      "Model:                            OLS   Adj. R-squared:                  0.648\n",
      "Method:                 Least Squares   F-statistic:                     8.372\n",
      "Date:                Fri, 18 Apr 2025   Prob (F-statistic):             0.0628\n",
      "Time:                        09:25:19   Log-Likelihood:                -17.652\n",
      "No. Observations:                   5   AIC:                             39.30\n",
      "Df Residuals:                       3   BIC:                             38.52\n",
      "Df Model:                           1                                         \n",
      "Covariance Type:            nonrobust                                         \n",
      "===============================================================================\n",
      "                  coef    std err          t      P>|t|      [0.025      0.975]\n",
      "-------------------------------------------------------------------------------\n",
      "Intercept      63.3333      6.157     10.287      0.002      43.739      82.927\n",
      "gender[T.M]    28.1667      9.735      2.893      0.063      -2.814      59.148\n",
      "==============================================================================\n",
      "Omnibus:                          nan   Durbin-Watson:                   1.487\n",
      "Prob(Omnibus):                    nan   Jarque-Bera (JB):                0.208\n",
      "Skew:                          -0.276   Prob(JB):                        0.901\n",
      "Kurtosis:                       2.167   Cond. No.                         2.45\n",
      "==============================================================================\n",
      "\n",
      "Notes:\n",
      "[1] Standard Errors assume that the covariance matrix of the errors is correctly specified.\n"
     ]
    },
    {
     "name": "stderr",
     "output_type": "stream",
     "text": [
      "/opt/anaconda3/lib/python3.12/site-packages/statsmodels/stats/stattools.py:74: ValueWarning: omni_normtest is not valid with less than 8 observations; 5 samples were given.\n",
      "  warn(\"omni_normtest is not valid with less than 8 observations; %i \"\n"
     ]
    }
   ],
   "source": [
    "# Since p-value > 0.05, we cannot reject null hypo. We want dive further into the data.\n",
    "import statsmodels.api as sm\n",
    "import statsmodels.formula.api as smf\n",
    "\n",
    "model = smf.ols('math_score ~ gender', data = df).fit()\n",
    "\n",
    "print(model.summary())"
   ]
  },
  {
   "cell_type": "markdown",
   "id": "7d8c89df-0e26-4527-a18a-971f8e5673f1",
   "metadata": {},
   "source": [
    "I mean, the data is really small. "
   ]
  }
 ],
 "metadata": {
  "kernelspec": {
   "display_name": "Python [conda env:base] *",
   "language": "python",
   "name": "conda-base-py"
  },
  "language_info": {
   "codemirror_mode": {
    "name": "ipython",
    "version": 3
   },
   "file_extension": ".py",
   "mimetype": "text/x-python",
   "name": "python",
   "nbconvert_exporter": "python",
   "pygments_lexer": "ipython3",
   "version": "3.12.7"
  }
 },
 "nbformat": 4,
 "nbformat_minor": 5
}
