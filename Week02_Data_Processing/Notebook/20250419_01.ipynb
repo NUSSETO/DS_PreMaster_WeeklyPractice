{
 "cells": [
  {
   "cell_type": "code",
   "execution_count": 39,
   "id": "acf691fb-f03b-4bde-be3f-fceff1c99416",
   "metadata": {},
   "outputs": [],
   "source": [
    "import pandas as pd\n",
    "import numpy as np\n",
    "\n",
    "# Modeling and preprocessing\n",
    "from sklearn.model_selection import train_test_split\n",
    "from sklearn.linear_model import LinearRegression\n",
    "from sklearn.tree import DecisionTreeRegressor\n",
    "from sklearn.preprocessing import StandardScaler, OneHotEncoder\n",
    "from sklearn.compose import ColumnTransformer\n",
    "from sklearn.pipeline import Pipeline\n",
    "\n",
    "# Evaluation\n",
    "from sklearn.metrics import mean_absolute_error, root_mean_squared_error, r2_score\n",
    "\n",
    "# Making dataset\n",
    "df =pd.DataFrame({'student_id':[1, 2, 3, 4, 5],\n",
    "                  'math_score':[75, 88, 95, 65, 50],\n",
    "                  'english_score':[82, 79, 91, 70, 60],\n",
    "                  'gender':['F', 'M', 'M', 'F', 'F'],\n",
    "                  'school_type':['public', 'private', 'private', 'public', 'public'],\n",
    "                  'final_score':[80, 85, 90, 70, 60]})"
   ]
  },
  {
   "cell_type": "code",
   "execution_count": 41,
   "id": "1a01f4b6-92e3-4a36-97e9-851870a45b56",
   "metadata": {},
   "outputs": [
    {
     "data": {
      "text/plain": [
       "{'gender': array(['F', 'M'], dtype=object),\n",
       " 'school_type': array(['public', 'private'], dtype=object)}"
      ]
     },
     "execution_count": 41,
     "metadata": {},
     "output_type": "execute_result"
    }
   ],
   "source": [
    "# Feature engineering\n",
    "num_cols = ['math_score', 'english_score']\n",
    "cat_cols = ['gender', 'school_type']\n",
    "\n",
    "# Checking if any potential problems\n",
    "{col: df[col].unique() for col in cat_cols}"
   ]
  },
  {
   "cell_type": "code",
   "execution_count": 43,
   "id": "d7bbf185-ceb0-4720-9efe-1e4e6acd5a62",
   "metadata": {},
   "outputs": [],
   "source": [
    "# preprocessing \n",
    "preprocessor = ColumnTransformer([('num', StandardScaler(), num_cols), \n",
    "                                  ('cat', OneHotEncoder(drop = 'first'), cat_cols)])"
   ]
  },
  {
   "cell_type": "markdown",
   "id": "6bba8fde-aa18-4975-9f05-d5fc54f4aaf8",
   "metadata": {},
   "source": [
    "# First model : Linear Regression"
   ]
  },
  {
   "cell_type": "code",
   "execution_count": 46,
   "id": "9f0235db-e750-40e5-a491-0005eaf18a97",
   "metadata": {},
   "outputs": [],
   "source": [
    "# Creating pipeline\n",
    "pipe_lr = Pipeline([('Preprocessing', preprocessor), ('model', LinearRegression())])\n",
    "\n",
    "# Making training and test sets\n",
    "X = df.drop(columns = ['student_id', 'final_score'])\n",
    "y = df['final_score']\n",
    "X_train, X_test, y_train, y_test = train_test_split(X, y, test_size = 0.4, random_state = 42)\n",
    "\n",
    "# Training model\n",
    "pipe_lr.fit(X_train, y_train)\n",
    "\n",
    "# Prediction\n",
    "y_pred_lr = pipe_lr.predict(X_test)"
   ]
  },
  {
   "cell_type": "code",
   "execution_count": 48,
   "id": "522760ac-e6ee-4d19-9bc1-bbd328f14ac6",
   "metadata": {},
   "outputs": [
    {
     "name": "stdout",
     "output_type": "stream",
     "text": [
      "Linear Regression\n",
      "MAE:  2.197117336581403\n",
      "RMSE:  3.0376701200830367\n",
      "R²:  0.9409443855459502\n"
     ]
    }
   ],
   "source": [
    "# Evaluating model\n",
    "mae_lr = mean_absolute_error(y_test, y_pred_lr)\n",
    "rmse_lr = root_mean_squared_error(y_test, y_pred_lr)\n",
    "r2_lr = r2_score(y_test, y_pred_lr)\n",
    "\n",
    "print('Linear Regression')\n",
    "print('MAE: ', mae_lr)\n",
    "print('RMSE: ', rmse_lr)\n",
    "print('R²: ', r2_lr)"
   ]
  },
  {
   "cell_type": "markdown",
   "id": "54ed0e27-82b2-4ed6-852c-940f7726f200",
   "metadata": {},
   "source": [
    "# Second model : Decision Tree"
   ]
  },
  {
   "cell_type": "code",
   "execution_count": 51,
   "id": "b69f95d2-3849-46c8-915e-abfc1d0b1b2c",
   "metadata": {},
   "outputs": [],
   "source": [
    "# Creating another pipeline\n",
    "pipe_tree = Pipeline([('Preprocessing', preprocessor), \n",
    "                      ('model', DecisionTreeRegressor(random_state = 42))])\n",
    "\n",
    "# Training model\n",
    "pipe_tree.fit(X_train, y_train)\n",
    "\n",
    "# Prediction\n",
    "y_pred_tree = pipe_tree.predict(X_test)"
   ]
  },
  {
   "cell_type": "code",
   "execution_count": 53,
   "id": "21d0f2cf-a6e3-464c-a6d4-9f70f06cb773",
   "metadata": {},
   "outputs": [
    {
     "name": "stdout",
     "output_type": "stream",
     "text": [
      "Decision Tree\n",
      "MAE:  7.5\n",
      "RMSE:  7.905694150420948\n",
      "R²:  0.6\n"
     ]
    }
   ],
   "source": [
    "# Evaluating model\n",
    "mae_tree = mean_absolute_error(y_test, y_pred_tree)\n",
    "rmse_tree = root_mean_squared_error(y_test, y_pred_tree)\n",
    "r2_tree = r2_score(y_test, y_pred_tree)\n",
    "\n",
    "print('Decision Tree')\n",
    "print('MAE: ', mae_tree)\n",
    "print('RMSE: ', rmse_tree)\n",
    "print('R²: ', r2_tree)"
   ]
  },
  {
   "cell_type": "markdown",
   "id": "1b1120c1-1bfa-47b6-be16-c0304c1f0e5a",
   "metadata": {},
   "source": [
    "In this dataset, the linear regression model achieved significantly better performance than the decision tree regressor (MAE = 2.20 vs 7.50, R² = 0.94 vs 0.60). The tree-based model likely overfit due to the small dataset and limited feature diversity. For this problem, a linear model appears to be more appropriate."
   ]
  }
 ],
 "metadata": {
  "kernelspec": {
   "display_name": "Python [conda env:base] *",
   "language": "python",
   "name": "conda-base-py"
  },
  "language_info": {
   "codemirror_mode": {
    "name": "ipython",
    "version": 3
   },
   "file_extension": ".py",
   "mimetype": "text/x-python",
   "name": "python",
   "nbconvert_exporter": "python",
   "pygments_lexer": "ipython3",
   "version": "3.12.7"
  }
 },
 "nbformat": 4,
 "nbformat_minor": 5
}
