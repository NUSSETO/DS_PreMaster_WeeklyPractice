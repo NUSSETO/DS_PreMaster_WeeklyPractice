{
 "cells": [
  {
   "cell_type": "markdown",
   "id": "d6a363ea-d135-42d7-a499-9449b6ad09ae",
   "metadata": {},
   "source": [
    "First, we import 'original_titanic.csv' and use 'clean_titanic_data' to clean the it."
   ]
  },
  {
   "cell_type": "code",
   "execution_count": 4,
   "id": "235af1c3-11b9-4b0a-81d7-61568ec1e450",
   "metadata": {},
   "outputs": [
    {
     "data": {
      "text/html": [
       "<div>\n",
       "<style scoped>\n",
       "    .dataframe tbody tr th:only-of-type {\n",
       "        vertical-align: middle;\n",
       "    }\n",
       "\n",
       "    .dataframe tbody tr th {\n",
       "        vertical-align: top;\n",
       "    }\n",
       "\n",
       "    .dataframe thead th {\n",
       "        text-align: right;\n",
       "    }\n",
       "</style>\n",
       "<table border=\"1\" class=\"dataframe\">\n",
       "  <thead>\n",
       "    <tr style=\"text-align: right;\">\n",
       "      <th></th>\n",
       "      <th>ID</th>\n",
       "      <th>Survived</th>\n",
       "      <th>Class</th>\n",
       "      <th>Name</th>\n",
       "      <th>Gender</th>\n",
       "      <th>Age</th>\n",
       "      <th>Fare</th>\n",
       "    </tr>\n",
       "  </thead>\n",
       "  <tbody>\n",
       "    <tr>\n",
       "      <th>0</th>\n",
       "      <td>1</td>\n",
       "      <td>0</td>\n",
       "      <td>3</td>\n",
       "      <td>Braund, Mr. Owen</td>\n",
       "      <td>male</td>\n",
       "      <td>22.000000</td>\n",
       "      <td>7.2500</td>\n",
       "    </tr>\n",
       "    <tr>\n",
       "      <th>1</th>\n",
       "      <td>2</td>\n",
       "      <td>1</td>\n",
       "      <td>1</td>\n",
       "      <td>Cumings, Mrs. John</td>\n",
       "      <td>female</td>\n",
       "      <td>38.000000</td>\n",
       "      <td>71.2833</td>\n",
       "    </tr>\n",
       "    <tr>\n",
       "      <th>2</th>\n",
       "      <td>3</td>\n",
       "      <td>1</td>\n",
       "      <td>3</td>\n",
       "      <td>Heikkinen, Miss. Laina</td>\n",
       "      <td>female</td>\n",
       "      <td>26.000000</td>\n",
       "      <td>7.9250</td>\n",
       "    </tr>\n",
       "    <tr>\n",
       "      <th>3</th>\n",
       "      <td>4</td>\n",
       "      <td>1</td>\n",
       "      <td>1</td>\n",
       "      <td>Futrelle, Mrs. Jacques</td>\n",
       "      <td>female</td>\n",
       "      <td>35.000000</td>\n",
       "      <td>53.1000</td>\n",
       "    </tr>\n",
       "    <tr>\n",
       "      <th>4</th>\n",
       "      <td>5</td>\n",
       "      <td>0</td>\n",
       "      <td>3</td>\n",
       "      <td>Allen, Mr. William</td>\n",
       "      <td>male</td>\n",
       "      <td>35.000000</td>\n",
       "      <td>8.0500</td>\n",
       "    </tr>\n",
       "    <tr>\n",
       "      <th>5</th>\n",
       "      <td>6</td>\n",
       "      <td>0</td>\n",
       "      <td>3</td>\n",
       "      <td>Moran, Mr. James</td>\n",
       "      <td>male</td>\n",
       "      <td>28.111111</td>\n",
       "      <td>8.4583</td>\n",
       "    </tr>\n",
       "    <tr>\n",
       "      <th>6</th>\n",
       "      <td>7</td>\n",
       "      <td>0</td>\n",
       "      <td>1</td>\n",
       "      <td>McCarthy, Mr. Timothy</td>\n",
       "      <td>male</td>\n",
       "      <td>54.000000</td>\n",
       "      <td>51.8625</td>\n",
       "    </tr>\n",
       "    <tr>\n",
       "      <th>7</th>\n",
       "      <td>8</td>\n",
       "      <td>0</td>\n",
       "      <td>3</td>\n",
       "      <td>Palsson, Master. Gosta</td>\n",
       "      <td>male</td>\n",
       "      <td>2.000000</td>\n",
       "      <td>21.0750</td>\n",
       "    </tr>\n",
       "    <tr>\n",
       "      <th>8</th>\n",
       "      <td>9</td>\n",
       "      <td>1</td>\n",
       "      <td>3</td>\n",
       "      <td>Johnson, Mrs. Oscar</td>\n",
       "      <td>female</td>\n",
       "      <td>27.000000</td>\n",
       "      <td>11.1333</td>\n",
       "    </tr>\n",
       "    <tr>\n",
       "      <th>9</th>\n",
       "      <td>10</td>\n",
       "      <td>1</td>\n",
       "      <td>2</td>\n",
       "      <td>Nasser, Mrs. Nicholas</td>\n",
       "      <td>female</td>\n",
       "      <td>14.000000</td>\n",
       "      <td>30.0708</td>\n",
       "    </tr>\n",
       "  </tbody>\n",
       "</table>\n",
       "</div>"
      ],
      "text/plain": [
       "   ID  Survived  Class                    Name  Gender        Age     Fare\n",
       "0   1         0      3        Braund, Mr. Owen    male  22.000000   7.2500\n",
       "1   2         1      1      Cumings, Mrs. John  female  38.000000  71.2833\n",
       "2   3         1      3  Heikkinen, Miss. Laina  female  26.000000   7.9250\n",
       "3   4         1      1  Futrelle, Mrs. Jacques  female  35.000000  53.1000\n",
       "4   5         0      3      Allen, Mr. William    male  35.000000   8.0500\n",
       "5   6         0      3        Moran, Mr. James    male  28.111111   8.4583\n",
       "6   7         0      1   McCarthy, Mr. Timothy    male  54.000000  51.8625\n",
       "7   8         0      3  Palsson, Master. Gosta    male   2.000000  21.0750\n",
       "8   9         1      3     Johnson, Mrs. Oscar  female  27.000000  11.1333\n",
       "9  10         1      2   Nasser, Mrs. Nicholas  female  14.000000  30.0708"
      ]
     },
     "execution_count": 4,
     "metadata": {},
     "output_type": "execute_result"
    }
   ],
   "source": [
    "from my_utils import clean_titanic_data, age_category, plot_count\n",
    "df = clean_titanic_data('original_titanic.csv')\n",
    "df.head(10)"
   ]
  },
  {
   "cell_type": "markdown",
   "id": "bfff6bd6-0612-4ed3-930b-854bbe0aa899",
   "metadata": {},
   "source": [
    "Next, we discuss the relationship between survival status and class/gender."
   ]
  },
  {
   "cell_type": "code",
   "execution_count": 6,
   "id": "8ce3b431-0658-48c0-8034-edd852d111c5",
   "metadata": {},
   "outputs": [
    {
     "name": "stdout",
     "output_type": "stream",
     "text": [
      "Gender\n",
      "female    1.0\n",
      "male      0.0\n",
      "Name: Survived, dtype: float64\n",
      "Class\n",
      "1    0.666667\n",
      "2    1.000000\n",
      "3    0.333333\n",
      "Name: Survived, dtype: float64\n"
     ]
    }
   ],
   "source": [
    "Survival_by_Gender = df.groupby('Gender')['Survived'].mean()\n",
    "print(Survival_by_Gender)\n",
    "\n",
    "Survival_by_Class = df.groupby('Class')['Survived'].mean()\n",
    "print(Survival_by_Class)"
   ]
  },
  {
   "cell_type": "markdown",
   "id": "578e6486-cba2-480c-ae5f-5877a64782cc",
   "metadata": {},
   "source": [
    "We can see from 'Survival_by_Gender' that all female passenger survived the crash while all male passenger did not. \n",
    "From 'Survival_by_Class', we can tell that class 2 has the highest survival rate, followed by class 1 then class 3. \n",
    "We can explain the situation by the number of passengers in each class/gender."
   ]
  },
  {
   "cell_type": "code",
   "execution_count": 8,
   "id": "ac46f920-3796-4242-a157-1614b392b331",
   "metadata": {},
   "outputs": [
    {
     "data": {
      "image/png": "[encoded data removed]",
      "text/plain": [
       "<Figure size 640x480 with 1 Axes>"
      ]
     },
     "metadata": {},
     "output_type": "display_data"
    },
    {
     "data": {
      "image/png": "[encoded data removed]",
      "text/plain": [
       "<Figure size 640x480 with 1 Axes>"
      ]
     },
     "metadata": {},
     "output_type": "display_data"
    }
   ],
   "source": [
    "plot_count(df, 'Gender')\n",
    "plot_count(df, 'Class')"
   ]
  },
  {
   "cell_type": "markdown",
   "id": "467d011a-8c33-4fdb-a9a5-77d53765e89a",
   "metadata": {},
   "source": [
    "We can see from the chart that the numbers of male and female passengers are equal, we may assume there is some relationship between gender and survival status. \n",
    "Meanwhile, from the following reasons, we cannot conclude that there must be a relationship between class and survival status: \n",
    "1. Although class 2 has the highest rate of 1, but there was only one passenger.\n",
    "2. The survival rate of class 1 and class 3 may seem like there is a huge difference, but the number of passengers of these two classes are relatively small."
   ]
  },
  {
   "cell_type": "markdown",
   "id": "daa0f7df-4e27-4016-a1ed-d5bdabfde5b8",
   "metadata": {},
   "source": [
    "Next, we disscuss the relationship between AgeGroup and survival status."
   ]
  },
  {
   "cell_type": "code",
   "execution_count": 14,
   "id": "5a95f10d-5599-4732-977b-5c8943442286",
   "metadata": {},
   "outputs": [
    {
     "name": "stdout",
     "output_type": "stream",
     "text": [
      "AgeGroup\n",
      "Adult     0.571429\n",
      "Child     0.500000\n",
      "Senior    0.000000\n",
      "Name: Survived, dtype: float64\n"
     ]
    },
    {
     "data": {
      "image/png": "[encoded data removed]",
      "text/plain": [
       "<Figure size 640x480 with 1 Axes>"
      ]
     },
     "metadata": {},
     "output_type": "display_data"
    }
   ],
   "source": [
    "df['AgeGroup'] = df['Age'].apply(age_category)\n",
    "Survival_by_AgeGroup = df.groupby('AgeGroup')['Survived'].mean()\n",
    "print(Survival_by_AgeGroup)\n",
    "plot_count(df, 'AgeGroup')"
   ]
  },
  {
   "cell_type": "markdown",
   "id": "d162c04f-5b18-44bf-8efa-e2ccad05fd0c",
   "metadata": {},
   "source": [
    "Still, we cannot tell there must be a relationship between AgeGroup and survival status since the numbers of passengers in differebt AgeGroup are relatively seperated."
   ]
  },
  {
   "cell_type": "markdown",
   "id": "8075399f-548e-4b01-9e19-6e98da97d4c2",
   "metadata": {},
   "source": [
    "Finally, we discuss the relationship between FareTier and survival status."
   ]
  },
  {
   "cell_type": "code",
   "execution_count": 18,
   "id": "4496970d-48ad-4be9-93c7-fae4a9bd212f",
   "metadata": {},
   "outputs": [
    {
     "name": "stdout",
     "output_type": "stream",
     "text": [
      "FareTier\n",
      "High      0.75\n",
      "Low       0.25\n",
      "Medium    0.50\n",
      "Name: Survived, dtype: float64\n"
     ]
    },
    {
     "data": {
      "image/png": "[encoded data removed]",
      "text/plain": [
       "<Figure size 640x480 with 1 Axes>"
      ]
     },
     "metadata": {},
     "output_type": "display_data"
    }
   ],
   "source": [
    "import numpy as np\n",
    "\n",
    "conditions = [df['Fare'] < 10, (10 <= df['Fare']) & (df['Fare'] < 30), 30 <= df['Fare']]\n",
    "choices = ['Low', 'Medium', 'High']\n",
    "df['FareTier'] = np.select(conditions, choices)\n",
    "\n",
    "Survival_by_FareTier = df.groupby('FareTier')['Survived'].mean()\n",
    "print(Survival_by_FareTier)\n",
    "plot_count(df, 'FareTier')"
   ]
  },
  {
   "cell_type": "markdown",
   "id": "28490916-5b77-4f16-affd-0b83216515a9",
   "metadata": {},
   "source": [
    "Since the numbers of passengers in different FareTier are relatively close, we may assume that buying a high priced ticket did buy you more survival chance, while low priced ticket lose your chance to survive."
   ]
  },
  {
   "cell_type": "markdown",
   "id": "e0857ff1-3eac-4c06-a807-5af84d959601",
   "metadata": {},
   "source": [
    "### Conclusion:\n",
    "- There might not be a significant relatiobship between survival status and Age/Class, since the numbers of passengers are small in this sample.\n",
    "- We can say there could be relationship between survival status and FareTier. \n",
    "- Gender appears to be the strongest factor in survival. All female passengers survived, while all male passengers did not, in this sample."
   ]
  }
 ],
 "metadata": {
  "kernelspec": {
   "display_name": "Python [conda env:base] *",
   "language": "python",
   "name": "conda-base-py"
  },
  "language_info": {
   "codemirror_mode": {
    "name": "ipython",
    "version": 3
   },
   "file_extension": ".py",
   "mimetype": "text/x-python",
   "name": "python",
   "nbconvert_exporter": "python",
   "pygments_lexer": "ipython3",
   "version": "3.12.7"
  }
 },
 "nbformat": 4,
 "nbformat_minor": 5
}
