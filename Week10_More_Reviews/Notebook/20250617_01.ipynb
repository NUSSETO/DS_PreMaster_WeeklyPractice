{
 "cells": [
  {
   "cell_type": "code",
   "execution_count": 1,
   "id": "9e00ffd1-d122-4334-b050-c2862f950660",
   "metadata": {},
   "outputs": [],
   "source": [
    "# Getting some thoughts about merging.\n",
    "import pandas as pd"
   ]
  },
  {
   "cell_type": "code",
   "execution_count": 2,
   "id": "bae54006-6aaf-44cf-ab76-75cecc115a3e",
   "metadata": {},
   "outputs": [],
   "source": [
    "# First table\n",
    "sales = pd.DataFrame({'store_id': [1, 2, 3],\n",
    "                      'sales': [250, 400, 150]})\n",
    "# Second table\n",
    "locations = pd.DataFrame({'store_id': [1, 2, 4],\n",
    "                          'city': ['Taipei', 'Kaohsiung', 'Tainan']})"
   ]
  },
  {
   "cell_type": "code",
   "execution_count": 10,
   "id": "2dd56dbf-aa2a-4100-8c26-a66391963a9a",
   "metadata": {},
   "outputs": [
    {
     "name": "stdout",
     "output_type": "stream",
     "text": [
      "   store_id  sales       city\n",
      "0         1    250     Taipei\n",
      "1         2    400  Kaohsiung\n"
     ]
    }
   ],
   "source": [
    "# Inner Join : keep only in both\n",
    "inner = pd.merge(sales, locations, on = 'store_id', how = 'inner')\n",
    "print(inner)"
   ]
  },
  {
   "cell_type": "code",
   "execution_count": 11,
   "id": "9022a698-b46f-44ba-a0e9-2b8d5a222f48",
   "metadata": {},
   "outputs": [
    {
     "name": "stdout",
     "output_type": "stream",
     "text": [
      "   store_id  sales       city\n",
      "0         1    250     Taipei\n",
      "1         2    400  Kaohsiung\n",
      "2         3    150        NaN\n"
     ]
    }
   ],
   "source": [
    "# Left Join : keep all from left (this case, sales)\n",
    "left = pd.merge(sales, locations, on = 'store_id', how = 'left')\n",
    "print(left)"
   ]
  },
  {
   "cell_type": "code",
   "execution_count": 12,
   "id": "ecbe3d54-47ad-4b4d-8ba0-984ae663a6c2",
   "metadata": {},
   "outputs": [
    {
     "name": "stdout",
     "output_type": "stream",
     "text": [
      "   store_id  sales       city\n",
      "0         1  250.0     Taipei\n",
      "1         2  400.0  Kaohsiung\n",
      "2         4    NaN     Tainan\n"
     ]
    }
   ],
   "source": [
    "# Right Join : keep all from right (this case, locations)\n",
    "right = pd.merge(sales, locations, on = 'store_id', how = 'right')\n",
    "print(right)"
   ]
  },
  {
   "cell_type": "code",
   "execution_count": 13,
   "id": "b6b75880-fd75-49bf-9e2a-366d61a7be22",
   "metadata": {},
   "outputs": [
    {
     "name": "stdout",
     "output_type": "stream",
     "text": [
      "   store_id  sales       city\n",
      "0         1  250.0     Taipei\n",
      "1         2  400.0  Kaohsiung\n",
      "2         3  150.0        NaN\n",
      "3         4    NaN     Tainan\n"
     ]
    }
   ],
   "source": [
    "# Outer Join : keep everything\n",
    "outer = pd.merge(sales, locations, on = 'store_id', how = 'outer')\n",
    "print(outer)"
   ]
  },
  {
   "cell_type": "code",
   "execution_count": 14,
   "id": "e485c8be-6c50-4368-a74c-3a856c9fd63a",
   "metadata": {},
   "outputs": [
    {
     "name": "stdout",
     "output_type": "stream",
     "text": [
      "  store_id  sales       city\n",
      "0       1     250        NaN\n",
      "1        2    400  Kaohsiung\n",
      "2        3    150        NaN\n"
     ]
    }
   ],
   "source": [
    "# Dirty keys, dirty indeed.\n",
    "sales_dirty = pd.DataFrame({'store_id': ['1 ', '2', '3'],\n",
    "                            'sales': [250, 400, 150]})\n",
    "\n",
    "locations_clean = pd.DataFrame({'store_id': ['1', '2', '4'],\n",
    "                                'city': ['Taipei', 'Kaohsiung', 'Tainan']})\n",
    "\n",
    "# Try merging\n",
    "bad_merge = pd.merge(sales_dirty, locations_clean, on = 'store_id', how = 'left')\n",
    "print(bad_merge)"
   ]
  },
  {
   "cell_type": "code",
   "execution_count": 16,
   "id": "181ad8c8-7349-4840-ad6b-5dad3d94166f",
   "metadata": {},
   "outputs": [
    {
     "name": "stdout",
     "output_type": "stream",
     "text": [
      "  store_id  sales       city\n",
      "0        1    250     Taipei\n",
      "1        2    400  Kaohsiung\n",
      "2        3    150        NaN\n"
     ]
    }
   ],
   "source": [
    "# Try fix this\n",
    "# .str.strip() gets rid of all head and tail blank space\n",
    "sales_dirty['store_id'] = sales_dirty['store_id'].str.strip()\n",
    "\n",
    "# Merge again\n",
    "good_merge = pd.merge(sales_dirty, locations_clean, on = 'store_id', how = 'left')\n",
    "print(good_merge)"
   ]
  },
  {
   "cell_type": "code",
   "execution_count": 18,
   "id": "72cb94d5-0967-40ca-9fdc-64b38d415f07",
   "metadata": {},
   "outputs": [],
   "source": [
    "# Now try normalization and standardization\n",
    "data = pd.DataFrame({'age': [18, 22, 25, 30, 35],\n",
    "                     'income': [1000, 2500, 3000, 4000, 8000]})"
   ]
  },
  {
   "cell_type": "code",
   "execution_count": 23,
   "id": "aa465969-c08a-43de-80f3-515a2f1f2bff",
   "metadata": {},
   "outputs": [
    {
     "name": "stdout",
     "output_type": "stream",
     "text": [
      "        age    income\n",
      "0  0.000000  0.000000\n",
      "1  0.235294  0.214286\n",
      "2  0.411765  0.285714\n",
      "3  0.705882  0.428571\n",
      "4  1.000000  1.000000\n"
     ]
    }
   ],
   "source": [
    "# Min-max normalization\n",
    "normalized = (data - data.min()) / (data.max() - data.min())\n",
    "print(normalized)"
   ]
  },
  {
   "cell_type": "code",
   "execution_count": 24,
   "id": "4f52e8df-9246-4d11-8d5a-d4d12a8cc487",
   "metadata": {},
   "outputs": [
    {
     "name": "stdout",
     "output_type": "stream",
     "text": [
      "        age    income\n",
      "0 -1.199251 -1.024168\n",
      "1 -0.599625 -0.455186\n",
      "2 -0.149906 -0.265525\n",
      "3  0.599625  0.113796\n",
      "4  1.349157  1.631083\n"
     ]
    }
   ],
   "source": [
    "# Standardization\n",
    "standardized = (data - data.mean()) / data.std()\n",
    "print(standardized)"
   ]
  },
  {
   "cell_type": "code",
   "execution_count": 25,
   "id": "852e3309-1bce-46ed-a398-6cbe1c4f3491",
   "metadata": {},
   "outputs": [],
   "source": [
    "# Or we can do it in a fancier way\n",
    "from sklearn.preprocessing import MinMaxScaler, StandardScaler\n",
    "\n",
    "# Normalize\n",
    "minmax = MinMaxScaler()\n",
    "fancy_normalized = pd.DataFrame(minmax.fit_transform(data), columns = data.columns)\n",
    "\n",
    "# Standardize\n",
    "standard = StandardScaler()\n",
    "fancy_standardized = pd.DataFrame(standard.fit_transform(data), columns = data.columns)"
   ]
  },
  {
   "cell_type": "code",
   "execution_count": 26,
   "id": "4065fcb2-ab4b-4104-b6d5-de28eba2cbc2",
   "metadata": {},
   "outputs": [
    {
     "data": {
      "text/html": [
       "<div>\n",
       "<style scoped>\n",
       "    .dataframe tbody tr th:only-of-type {\n",
       "        vertical-align: middle;\n",
       "    }\n",
       "\n",
       "    .dataframe tbody tr th {\n",
       "        vertical-align: top;\n",
       "    }\n",
       "\n",
       "    .dataframe thead th {\n",
       "        text-align: right;\n",
       "    }\n",
       "</style>\n",
       "<table border=\"1\" class=\"dataframe\">\n",
       "  <thead>\n",
       "    <tr style=\"text-align: right;\">\n",
       "      <th></th>\n",
       "      <th>age</th>\n",
       "      <th>income</th>\n",
       "    </tr>\n",
       "  </thead>\n",
       "  <tbody>\n",
       "    <tr>\n",
       "      <th>0</th>\n",
       "      <td>0.000000</td>\n",
       "      <td>0.000000</td>\n",
       "    </tr>\n",
       "    <tr>\n",
       "      <th>1</th>\n",
       "      <td>0.235294</td>\n",
       "      <td>0.214286</td>\n",
       "    </tr>\n",
       "    <tr>\n",
       "      <th>2</th>\n",
       "      <td>0.411765</td>\n",
       "      <td>0.285714</td>\n",
       "    </tr>\n",
       "    <tr>\n",
       "      <th>3</th>\n",
       "      <td>0.705882</td>\n",
       "      <td>0.428571</td>\n",
       "    </tr>\n",
       "    <tr>\n",
       "      <th>4</th>\n",
       "      <td>1.000000</td>\n",
       "      <td>1.000000</td>\n",
       "    </tr>\n",
       "  </tbody>\n",
       "</table>\n",
       "</div>"
      ],
      "text/plain": [
       "        age    income\n",
       "0  0.000000  0.000000\n",
       "1  0.235294  0.214286\n",
       "2  0.411765  0.285714\n",
       "3  0.705882  0.428571\n",
       "4  1.000000  1.000000"
      ]
     },
     "execution_count": 26,
     "metadata": {},
     "output_type": "execute_result"
    }
   ],
   "source": [
    "fancy_normalized"
   ]
  },
  {
   "cell_type": "code",
   "execution_count": 28,
   "id": "1b96707d-c97e-41f6-aedc-cb682ddbe2ba",
   "metadata": {},
   "outputs": [
    {
     "data": {
      "text/html": [
       "<div>\n",
       "<style scoped>\n",
       "    .dataframe tbody tr th:only-of-type {\n",
       "        vertical-align: middle;\n",
       "    }\n",
       "\n",
       "    .dataframe tbody tr th {\n",
       "        vertical-align: top;\n",
       "    }\n",
       "\n",
       "    .dataframe thead th {\n",
       "        text-align: right;\n",
       "    }\n",
       "</style>\n",
       "<table border=\"1\" class=\"dataframe\">\n",
       "  <thead>\n",
       "    <tr style=\"text-align: right;\">\n",
       "      <th></th>\n",
       "      <th>age</th>\n",
       "      <th>income</th>\n",
       "    </tr>\n",
       "  </thead>\n",
       "  <tbody>\n",
       "    <tr>\n",
       "      <th>0</th>\n",
       "      <td>-1.340803</td>\n",
       "      <td>-1.145055</td>\n",
       "    </tr>\n",
       "    <tr>\n",
       "      <th>1</th>\n",
       "      <td>-0.670402</td>\n",
       "      <td>-0.508913</td>\n",
       "    </tr>\n",
       "    <tr>\n",
       "      <th>2</th>\n",
       "      <td>-0.167600</td>\n",
       "      <td>-0.296866</td>\n",
       "    </tr>\n",
       "    <tr>\n",
       "      <th>3</th>\n",
       "      <td>0.670402</td>\n",
       "      <td>0.127228</td>\n",
       "    </tr>\n",
       "    <tr>\n",
       "      <th>4</th>\n",
       "      <td>1.508403</td>\n",
       "      <td>1.823606</td>\n",
       "    </tr>\n",
       "  </tbody>\n",
       "</table>\n",
       "</div>"
      ],
      "text/plain": [
       "        age    income\n",
       "0 -1.340803 -1.145055\n",
       "1 -0.670402 -0.508913\n",
       "2 -0.167600 -0.296866\n",
       "3  0.670402  0.127228\n",
       "4  1.508403  1.823606"
      ]
     },
     "execution_count": 28,
     "metadata": {},
     "output_type": "execute_result"
    }
   ],
   "source": [
    "# This give different result since it use different std\n",
    "fancy_standardized"
   ]
  }
 ],
 "metadata": {
  "kernelspec": {
   "display_name": "Python 3 (ipykernel)",
   "language": "python",
   "name": "python3"
  },
  "language_info": {
   "codemirror_mode": {
    "name": "ipython",
    "version": 3
   },
   "file_extension": ".py",
   "mimetype": "text/x-python",
   "name": "python",
   "nbconvert_exporter": "python",
   "pygments_lexer": "ipython3",
   "version": "3.12.7"
  }
 },
 "nbformat": 4,
 "nbformat_minor": 5
}
