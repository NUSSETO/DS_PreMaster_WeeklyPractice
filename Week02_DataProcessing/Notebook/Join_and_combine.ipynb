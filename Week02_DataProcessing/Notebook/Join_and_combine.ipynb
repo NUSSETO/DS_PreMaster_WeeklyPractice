{
 "cells": [
  {
   "cell_type": "code",
   "execution_count": 5,
   "id": "57e11baf-d123-4e7b-8acb-20c80d62e3c4",
   "metadata": {},
   "outputs": [],
   "source": [
    "import pandas as pd \n",
    "\n",
    "# Create students data\n",
    "students = pd.DataFrame({'student_id':[101, 102, 103, 104], 'name':['Alice', 'Bob', 'Charile', 'David'], 'gender':['F', 'M', 'M', 'M']})\n",
    "\n",
    "# Create scores data, which contains some error\n",
    "scores = pd.DataFrame({'student_id':[101, 102, 104, 105], 'midterm_score':[85, 90, 78, 88]})"
   ]
  },
  {
   "cell_type": "code",
   "execution_count": 7,
   "id": "f6ed6c20-03cf-4ec1-9822-2b6bf6c0b6e7",
   "metadata": {},
   "outputs": [
    {
     "data": {
      "text/html": [
       "<div>\n",
       "<style scoped>\n",
       "    .dataframe tbody tr th:only-of-type {\n",
       "        vertical-align: middle;\n",
       "    }\n",
       "\n",
       "    .dataframe tbody tr th {\n",
       "        vertical-align: top;\n",
       "    }\n",
       "\n",
       "    .dataframe thead th {\n",
       "        text-align: right;\n",
       "    }\n",
       "</style>\n",
       "<table border=\"1\" class=\"dataframe\">\n",
       "  <thead>\n",
       "    <tr style=\"text-align: right;\">\n",
       "      <th></th>\n",
       "      <th>student_id</th>\n",
       "      <th>name</th>\n",
       "      <th>gender</th>\n",
       "    </tr>\n",
       "  </thead>\n",
       "  <tbody>\n",
       "    <tr>\n",
       "      <th>0</th>\n",
       "      <td>101</td>\n",
       "      <td>Alice</td>\n",
       "      <td>F</td>\n",
       "    </tr>\n",
       "    <tr>\n",
       "      <th>1</th>\n",
       "      <td>102</td>\n",
       "      <td>Bob</td>\n",
       "      <td>M</td>\n",
       "    </tr>\n",
       "    <tr>\n",
       "      <th>2</th>\n",
       "      <td>103</td>\n",
       "      <td>Charile</td>\n",
       "      <td>M</td>\n",
       "    </tr>\n",
       "    <tr>\n",
       "      <th>3</th>\n",
       "      <td>104</td>\n",
       "      <td>David</td>\n",
       "      <td>M</td>\n",
       "    </tr>\n",
       "  </tbody>\n",
       "</table>\n",
       "</div>"
      ],
      "text/plain": [
       "   student_id     name gender\n",
       "0         101    Alice      F\n",
       "1         102      Bob      M\n",
       "2         103  Charile      M\n",
       "3         104    David      M"
      ]
     },
     "execution_count": 7,
     "metadata": {},
     "output_type": "execute_result"
    }
   ],
   "source": [
    "students.head()"
   ]
  },
  {
   "cell_type": "code",
   "execution_count": 9,
   "id": "f8affc97-e271-4939-98ff-cc8161a6a7d1",
   "metadata": {},
   "outputs": [
    {
     "data": {
      "text/html": [
       "<div>\n",
       "<style scoped>\n",
       "    .dataframe tbody tr th:only-of-type {\n",
       "        vertical-align: middle;\n",
       "    }\n",
       "\n",
       "    .dataframe tbody tr th {\n",
       "        vertical-align: top;\n",
       "    }\n",
       "\n",
       "    .dataframe thead th {\n",
       "        text-align: right;\n",
       "    }\n",
       "</style>\n",
       "<table border=\"1\" class=\"dataframe\">\n",
       "  <thead>\n",
       "    <tr style=\"text-align: right;\">\n",
       "      <th></th>\n",
       "      <th>student_id</th>\n",
       "      <th>midterm_score</th>\n",
       "    </tr>\n",
       "  </thead>\n",
       "  <tbody>\n",
       "    <tr>\n",
       "      <th>0</th>\n",
       "      <td>101</td>\n",
       "      <td>85</td>\n",
       "    </tr>\n",
       "    <tr>\n",
       "      <th>1</th>\n",
       "      <td>102</td>\n",
       "      <td>90</td>\n",
       "    </tr>\n",
       "    <tr>\n",
       "      <th>2</th>\n",
       "      <td>104</td>\n",
       "      <td>78</td>\n",
       "    </tr>\n",
       "    <tr>\n",
       "      <th>3</th>\n",
       "      <td>105</td>\n",
       "      <td>88</td>\n",
       "    </tr>\n",
       "  </tbody>\n",
       "</table>\n",
       "</div>"
      ],
      "text/plain": [
       "   student_id  midterm_score\n",
       "0         101             85\n",
       "1         102             90\n",
       "2         104             78\n",
       "3         105             88"
      ]
     },
     "execution_count": 9,
     "metadata": {},
     "output_type": "execute_result"
    }
   ],
   "source": [
    "scores.head()"
   ]
  },
  {
   "cell_type": "code",
   "execution_count": 23,
   "id": "1cc07167-3bf6-426d-a4ec-b95805e24278",
   "metadata": {},
   "outputs": [
    {
     "name": "stdout",
     "output_type": "stream",
     "text": [
      "   student_id   name gender  midterm_score\n",
      "0         101  Alice      F             85\n",
      "1         102    Bob      M             90\n",
      "2         104  David      M             78\n"
     ]
    }
   ],
   "source": [
    "# inner join: intersection of datas\n",
    "merged_inner = pd.merge(students, scores, on = 'student_id') # Merged based on student_id, 'how = ' is set to 'inner' by default\n",
    "print(merged_inner)"
   ]
  },
  {
   "cell_type": "code",
   "execution_count": 25,
   "id": "6eb746e1-a93c-4cda-9bb8-937cf9cc97c1",
   "metadata": {},
   "outputs": [
    {
     "name": "stdout",
     "output_type": "stream",
     "text": [
      "   student_id     name gender  midterm_score\n",
      "0         101    Alice      F           85.0\n",
      "1         102      Bob      M           90.0\n",
      "2         103  Charile      M            NaN\n",
      "3         104    David      M           78.0\n"
     ]
    }
   ],
   "source": [
    "# left join: only need left to have the data, and the same logic apply to 'right'\n",
    "merged_left = pd.merge(students, scores, on = 'student_id', how = 'left')\n",
    "print(merged_left)"
   ]
  },
  {
   "cell_type": "code",
   "execution_count": 19,
   "id": "2a11456f-c2df-43c4-8679-3bab7b35b37f",
   "metadata": {},
   "outputs": [
    {
     "name": "stdout",
     "output_type": "stream",
     "text": [
      "   student_id     name gender  midterm_score\n",
      "0         101    Alice      F           85.0\n",
      "1         102      Bob      M           90.0\n",
      "2         103  Charile      M            NaN\n",
      "3         104    David      M           78.0\n",
      "4         105      NaN    NaN           88.0\n"
     ]
    }
   ],
   "source": [
    "# outer join: union of datas\n",
    "merged_outer = pd.merge(students, scores, on = 'student_id', how = 'outer')\n",
    "print(merged_outer)"
   ]
  },
  {
   "cell_type": "code",
   "execution_count": 33,
   "id": "06637a59-dd3b-4ee1-8aa1-ce5443231696",
   "metadata": {},
   "outputs": [
    {
     "name": "stdout",
     "output_type": "stream",
     "text": [
      "   student_id     name gender  midterm_score      _merge\n",
      "0         101    Alice      F           85.0        both\n",
      "1         102      Bob      M           90.0        both\n",
      "2         103  Charile      M            NaN   left_only\n",
      "3         104    David      M           78.0        both\n",
      "4         105      NaN    NaN           88.0  right_only\n"
     ]
    }
   ],
   "source": [
    "# indicator: shows where the data came from\n",
    "merged_indicator = pd.merge(students, scores, on = 'student_id', how = 'outer', indicator = True)\n",
    "print(merged_indicator)"
   ]
  },
  {
   "cell_type": "code",
   "execution_count": 75,
   "id": "9b475280-2280-4584-8473-65fac0c4843a",
   "metadata": {},
   "outputs": [
    {
     "name": "stdout",
     "output_type": "stream",
     "text": [
      "   student_id     name gender\n",
      "0         101    Alice      F\n",
      "1         102      Bob      M\n",
      "2         103  Charile      M\n",
      "3         104    David      M\n",
      "4         201      Eve      F\n",
      "5         202    Frank      M\n"
     ]
    }
   ],
   "source": [
    "# Adding new datas into existing categories\n",
    "df1 = pd.DataFrame({'student_id':[201, 202], 'name':['Eve', 'Frank'], 'gender':['F', 'M']})\n",
    "\n",
    "df_combined = pd.concat([students, df1], ignore_index = True) # 'axis = ' is set to '0' by default\n",
    "print(df_combined)"
   ]
  },
  {
   "cell_type": "code",
   "execution_count": 79,
   "id": "666b0151-fd2a-44d4-9e94-6f75fcfb2550",
   "metadata": {},
   "outputs": [
    {
     "name": "stdout",
     "output_type": "stream",
     "text": [
      "   student_id     name gender     club\n",
      "0         101    Alice      F     Math\n",
      "1         102      Bob      M  Science\n",
      "2         103  Charile      M    Music\n",
      "3         104    David      M    Drama\n"
     ]
    }
   ],
   "source": [
    "# Adding new datas that need new categories, pretty much like 'join'\n",
    "df2 = pd.DataFrame({'club':['Math', 'Science', 'Music', 'Drama']})\n",
    "\n",
    "df_joined = pd.concat([students, df2], axis = 1) # 'ignore_index = ' is set to 'False' by default\n",
    "print(df_joined)"
   ]
  },
  {
   "cell_type": "code",
   "execution_count": 89,
   "id": "21c2ef45-4150-46d8-bef8-8401a6d274b2",
   "metadata": {},
   "outputs": [
    {
     "name": "stdout",
     "output_type": "stream",
     "text": [
      "            student_id     name gender\n",
      "original 0         101    Alice      F\n",
      "         1         102      Bob      M\n",
      "         2         103  Charile      M\n",
      "         3         104    David      M\n",
      "new      0         201      Eve      F\n",
      "         1         202    Frank      M\n"
     ]
    }
   ],
   "source": [
    "# Specify datasets name\n",
    "df_concat = pd.concat([students, df1], keys=['original', 'new']) # also, 'ignore_index' will override 'keys'.\n",
    "print(df_concat)"
   ]
  },
  {
   "cell_type": "code",
   "execution_count": 103,
   "id": "f31a4e44-4e31-4729-879e-0596a625bfd1",
   "metadata": {},
   "outputs": [
    {
     "name": "stdout",
     "output_type": "stream",
     "text": [
      "   student_id     name gender  midterm_score  final_score\n",
      "0         101    Alice      F           85.0         88.0\n",
      "1         102      Bob      M           90.0          NaN\n",
      "2         103  Charile      M            NaN         77.0\n",
      "3         104    David      M           78.0         85.0\n",
      "4         105      NaN    NaN           88.0          NaN\n",
      "5         106      NaN    NaN            NaN         90.0\n"
     ]
    }
   ],
   "source": [
    "# Exercise\n",
    "finals = pd.DataFrame({'student_id':[101, 103, 104, 106], 'final_score':[88, 77, 85, 90]})\n",
    "merged_all_outer = pd.merge(merged_outer, finals, on = 'student_id', how = 'outer') # only two datas at a time\n",
    "print(merged_all_outer)"
   ]
  },
  {
   "cell_type": "code",
   "execution_count": 109,
   "id": "6770dd03-d6d9-4a4f-b320-9aaeac62e75a",
   "metadata": {},
   "outputs": [
    {
     "name": "stdout",
     "output_type": "stream",
     "text": [
      "   student_id     name gender  midterm_score  final_score\n",
      "0         101    Alice      F           85.0         88.0\n",
      "1         102      Bob      M           90.0          NaN\n",
      "2         103  Charile      M            NaN         77.0\n",
      "3         104    David      M           78.0         85.0\n"
     ]
    }
   ],
   "source": [
    "merged_all_left = pd.merge(merged_left, finals, on = 'student_id', how = 'left')\n",
    "print(merged_all_left)"
   ]
  },
  {
   "cell_type": "code",
   "execution_count": 113,
   "id": "de4043d0-9867-4411-b749-480363c4adac",
   "metadata": {},
   "outputs": [
    {
     "name": "stdout",
     "output_type": "stream",
     "text": [
      "   student_id     name gender  midterm_score  final_score\n",
      "0         101    Alice      F           85.0         88.0\n",
      "1         102      Bob      M           90.0          NaN\n",
      "2         103  Charile      M            NaN         77.0\n",
      "3         104    David      M           78.0         85.0\n"
     ]
    }
   ],
   "source": [
    "# just in case if the original data is not in order\n",
    "merged_all_left = merged_all_left.sort_values('student_id').reset_index(drop = True)\n",
    "print(merged_all_left)"
   ]
  }
 ],
 "metadata": {
  "kernelspec": {
   "display_name": "Python [conda env:base] *",
   "language": "python",
   "name": "conda-base-py"
  },
  "language_info": {
   "codemirror_mode": {
    "name": "ipython",
    "version": 3
   },
   "file_extension": ".py",
   "mimetype": "text/x-python",
   "name": "python",
   "nbconvert_exporter": "python",
   "pygments_lexer": "ipython3",
   "version": "3.12.7"
  }
 },
 "nbformat": 4,
 "nbformat_minor": 5
}
