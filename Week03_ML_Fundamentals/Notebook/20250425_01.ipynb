{
 "cells": [
  {
   "cell_type": "code",
   "execution_count": 1,
   "id": "fd9e5398-89c1-47a9-bfec-eb7e9c366cae",
   "metadata": {},
   "outputs": [],
   "source": [
    "# What is Cross-Validation?\n",
    "import pandas as pd\n",
    "from sklearn.datasets import load_breast_cancer\n",
    "from sklearn.model_selection import cross_val_score\n",
    "from sklearn.linear_model import LogisticRegression\n",
    "from sklearn.tree import DecisionTreeClassifier\n",
    "\n",
    "# Loading dataset\n",
    "data = load_breast_cancer()\n",
    "X = pd.DataFrame(data.data, columns = data.feature_names)\n",
    "y = pd.Series(data.target)"
   ]
  },
  {
   "cell_type": "code",
   "execution_count": 13,
   "id": "c449a93f-9c90-4f9e-9489-9c1e442e7c93",
   "metadata": {},
   "outputs": [],
   "source": [
    "# Creating models\n",
    "logreg = LogisticRegression(solver = 'liblinear')\n",
    "tree = DecisionTreeClassifier(random_state = 42)"
   ]
  },
  {
   "cell_type": "code",
   "execution_count": 15,
   "id": "8f4d63e5-2e9e-4783-b6a8-ddbc5d8319d0",
   "metadata": {},
   "outputs": [
    {
     "name": "stdout",
     "output_type": "stream",
     "text": [
      "Logistic Regression cross-validation scores: [0.92982456 0.93859649 0.97368421 0.94736842 0.96460177]\n",
      "Mean accuracy: 0.9508150908244062\n",
      "Decision Tree cross-validation scores: [0.9122807  0.90350877 0.92982456 0.95614035 0.88495575]\n",
      "Mean accuracy: 0.9173420276354604\n"
     ]
    }
   ],
   "source": [
    "# Comparing models\n",
    "logreg_score = cross_val_score(logreg, X, y, cv = 5)\n",
    "print('Logistic Regression cross-validation scores:', logreg_score)\n",
    "print('Mean accuracy:', logreg_score.mean())\n",
    "\n",
    "tree_score = cross_val_score(tree, X, y, cv = 5)\n",
    "print('Decision Tree cross-validation scores:', tree_score)\n",
    "print('Mean accuracy:', tree_score.mean())"
   ]
  },
  {
   "cell_type": "code",
   "execution_count": 23,
   "id": "b03c3aa1-31c7-4130-ad2a-d5543880448c",
   "metadata": {},
   "outputs": [
    {
     "name": "stdout",
     "output_type": "stream",
     "text": [
      "Logistic Regression Pipeline cross-validation Scores: [0.98245614 0.97368421 0.97368421 0.97368421 0.99115044]\n",
      "Mean Accuracy: 0.9789318428815402\n",
      "Decision Tree Pipeline cross-validation Scores: [0.9122807  0.90350877 0.92982456 0.95614035 0.88495575]\n",
      "Mean Accuracy: 0.9173420276354604\n"
     ]
    }
   ],
   "source": [
    "# Making pipelines\n",
    "from sklearn.pipeline import Pipeline\n",
    "from sklearn.preprocessing import StandardScaler\n",
    "\n",
    "# Standizing for Logistic Regression, but no need for Decision Tree\n",
    "logreg_pipeline = Pipeline([('scaler', StandardScaler()),('logreg', LogisticRegression(solver = 'liblinear'))])\n",
    "tree_pipeline = Pipeline([('tree', DecisionTreeClassifier(random_state = 42))])\n",
    "\n",
    "# Cross-validation\n",
    "logreg_pipeline_scores = cross_val_score(logreg_pipeline, X, y, cv = 5)\n",
    "print(\"Logistic Regression Pipeline cross-validation Scores:\", logreg_pipeline_scores)\n",
    "print(\"Mean Accuracy:\", logreg_pipeline_scores.mean())\n",
    "\n",
    "tree_pipeline_scores = cross_val_score(tree_pipeline, X, y, cv = 5)\n",
    "print(\"Decision Tree Pipeline cross-validation Scores:\", tree_pipeline_scores)\n",
    "print(\"Mean Accuracy:\", tree_pipeline_scores.mean())"
   ]
  },
  {
   "cell_type": "markdown",
   "id": "255b7d5e-c2bb-4f0d-812c-f39d7ffb33c2",
   "metadata": {},
   "source": [
    "### Conclusion:\n",
    "\n",
    "- Logistic Regression achieved higher and more stable accuracy (mean ≈ 0.951) compared to Decision Tree (mean ≈ 0.917).\n",
    "- After introducing a `Pipeline` with `StandardScaler`, Logistic Regression performance **further improved**, confirming its sensitivity to feature scaling.\n",
    "- Decision Tree was also wrapped in a `Pipeline` for consistency, though scaling is not needed for tree-based models."
   ]
  }
 ],
 "metadata": {
  "kernelspec": {
   "display_name": "Python [conda env:base] *",
   "language": "python",
   "name": "conda-base-py"
  },
  "language_info": {
   "codemirror_mode": {
    "name": "ipython",
    "version": 3
   },
   "file_extension": ".py",
   "mimetype": "text/x-python",
   "name": "python",
   "nbconvert_exporter": "python",
   "pygments_lexer": "ipython3",
   "version": "3.12.7"
  }
 },
 "nbformat": 4,
 "nbformat_minor": 5
}
