{
 "cells": [
  {
   "cell_type": "code",
   "execution_count": 45,
   "id": "f48be9a6-d7c0-4fcf-af4a-8d316b879733",
   "metadata": {},
   "outputs": [],
   "source": [
    "import pandas as pd\n",
    "from sklearn.datasets import load_breast_cancer\n",
    "from sklearn.model_selection import train_test_split\n",
    "from sklearn.tree import DecisionTreeClassifier\n",
    "\n",
    "# Loading daataset\n",
    "data = load_breast_cancer()\n",
    "X = pd.DataFrame(data.data, columns = data.feature_names)\n",
    "y = pd.Series(data.target)\n",
    "\n",
    "# Spliting dataset\n",
    "X_train, X_test, y_train, y_test = train_test_split(X, y, test_size = 0.2, random_state = 42)\n",
    "\n",
    "# Making decision tree model without restrictions\n",
    "tree_standard = DecisionTreeClassifier(random_state = 42)\n",
    "tree_standard.fit(X_train, y_train)\n",
    "y_pred_standard = tree_standard.predict(X_test)"
   ]
  },
  {
   "cell_type": "code",
   "execution_count": 47,
   "id": "de3f43f6-c217-482f-af56-1cf13f65864c",
   "metadata": {},
   "outputs": [
    {
     "name": "stdout",
     "output_type": "stream",
     "text": [
      "Accuracy : 0.9473684210526315\n",
      "Confusion Matrix : \n",
      " [[40  3]\n",
      " [ 3 68]] \n",
      "\n",
      "Classification Report : \n",
      "               precision    recall  f1-score   support\n",
      "\n",
      "   malignant       0.93      0.93      0.93        43\n",
      "      benign       0.96      0.96      0.96        71\n",
      "\n",
      "    accuracy                           0.95       114\n",
      "   macro avg       0.94      0.94      0.94       114\n",
      "weighted avg       0.95      0.95      0.95       114\n",
      "\n"
     ]
    }
   ],
   "source": [
    "# Evaluating the results\n",
    "from sklearn.metrics import accuracy_score, confusion_matrix, classification_report\n",
    "\n",
    "print(f'Accuracy : {accuracy_score(y_test, y_pred_standard)}')\n",
    "print(f'Confusion Matrix : \\n {confusion_matrix(y_test, y_pred_standard)} \\n')\n",
    "print(f'Classification Report : \\n {classification_report(y_test, y_pred_standard, target_names = data.target_names)}')"
   ]
  },
  {
   "cell_type": "code",
   "execution_count": 55,
   "id": "60e76d51-223e-46d0-8f12-710cc9ae2512",
   "metadata": {},
   "outputs": [],
   "source": [
    "# Making dicision tree model with restrictions\n",
    "tree_max_depth = DecisionTreeClassifier(max_depth = 3, random_state = 42)\n",
    "tree_max_depth.fit(X_train, y_train)\n",
    "y_pred_max_depth = tree_max_depth.predict(X_test)\n",
    "\n",
    "tree_min_sample = DecisionTreeClassifier(min_samples_leaf = 5, random_state = 42)\n",
    "tree_min_sample.fit(X_train, y_train)\n",
    "y_pred_min_sample = tree_min_sample.predict(X_test)"
   ]
  },
  {
   "cell_type": "code",
   "execution_count": 57,
   "id": "dfd957bc-4dd5-45d6-92af-8ab9888632ff",
   "metadata": {},
   "outputs": [
    {
     "name": "stdout",
     "output_type": "stream",
     "text": [
      "Tree A (Standard)\n",
      "Accuracy :  0.9473684210526315\n",
      "              precision    recall  f1-score   support\n",
      "\n",
      "   malignant       0.93      0.93      0.93        43\n",
      "      benign       0.96      0.96      0.96        71\n",
      "\n",
      "    accuracy                           0.95       114\n",
      "   macro avg       0.94      0.94      0.94       114\n",
      "weighted avg       0.95      0.95      0.95       114\n",
      "\n",
      "-------------------------------------------------------\n",
      "Tree B (Max_depth = 3)\n",
      "Accuracy :  0.9473684210526315\n",
      "              precision    recall  f1-score   support\n",
      "\n",
      "   malignant       0.95      0.91      0.93        43\n",
      "      benign       0.95      0.97      0.96        71\n",
      "\n",
      "    accuracy                           0.95       114\n",
      "   macro avg       0.95      0.94      0.94       114\n",
      "weighted avg       0.95      0.95      0.95       114\n",
      "\n",
      "-------------------------------------------------------\n",
      "Tree C (Min_samples_leaf = 5)\n",
      "Accuracy :  0.956140350877193\n",
      "              precision    recall  f1-score   support\n",
      "\n",
      "   malignant       0.95      0.93      0.94        43\n",
      "      benign       0.96      0.97      0.97        71\n",
      "\n",
      "    accuracy                           0.96       114\n",
      "   macro avg       0.96      0.95      0.95       114\n",
      "weighted avg       0.96      0.96      0.96       114\n",
      "\n",
      "-------------------------------------------------------\n"
     ]
    }
   ],
   "source": [
    "def evaluate_model(name, y_true, y_pred):\n",
    "    print(name)\n",
    "    print(\"Accuracy : \", accuracy_score(y_true, y_pred))\n",
    "    print(classification_report(y_true, y_pred, target_names = data.target_names))\n",
    "    print(\"-\" * 55)\n",
    "\n",
    "evaluate_model(\"Tree A (Standard)\", y_test, y_pred_standard)\n",
    "evaluate_model(\"Tree B (Max_depth = 3)\", y_test, y_pred_max_depth)\n",
    "evaluate_model(\"Tree C (Min_samples_leaf = 5)\", y_test, y_pred_min_sample)"
   ]
  }
 ],
 "metadata": {
  "kernelspec": {
   "display_name": "Python [conda env:base] *",
   "language": "python",
   "name": "conda-base-py"
  },
  "language_info": {
   "codemirror_mode": {
    "name": "ipython",
    "version": 3
   },
   "file_extension": ".py",
   "mimetype": "text/x-python",
   "name": "python",
   "nbconvert_exporter": "python",
   "pygments_lexer": "ipython3",
   "version": "3.12.7"
  }
 },
 "nbformat": 4,
 "nbformat_minor": 5
}
