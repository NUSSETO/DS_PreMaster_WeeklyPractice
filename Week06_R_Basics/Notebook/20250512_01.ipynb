{
 "cells": [
  {
   "cell_type": "code",
   "execution_count": 1,
   "id": "bdb48465-44db-479c-a280-1d06c82ac48c",
   "metadata": {},
   "outputs": [
    {
     "name": "stdout",
     "output_type": "stream",
     "text": [
      "[1] 10\n",
      "[1] 5\n"
     ]
    }
   ],
   "source": [
    "x = 10\n",
    "y = 5\n",
    "\n",
    "print(x)\n",
    "print(y)"
   ]
  },
  {
   "cell_type": "code",
   "execution_count": 7,
   "id": "79f82e55-17c8-41cc-a018-83878407b341",
   "metadata": {},
   "outputs": [
    {
     "name": "stdout",
     "output_type": "stream",
     "text": [
      "[1] 85 70 95 55\n",
      "[1] \"Alice\" \"Bob\"   \"Cindy\" \"David\"\n",
      "[1]  TRUE  TRUE  TRUE FALSE\n"
     ]
    }
   ],
   "source": [
    "scores = c(85, 70, 95, 55)\n",
    "names = c(\"Alice\", \"Bob\", \"Cindy\", \"David\")\n",
    "passed = c(TRUE, TRUE, TRUE, FALSE)\n",
    "\n",
    "print(scores)\n",
    "print(names)\n",
    "print(passed)"
   ]
  },
  {
   "cell_type": "code",
   "execution_count": 11,
   "id": "3991695f-f137-4cfe-8cae-ebc429ddc32d",
   "metadata": {},
   "outputs": [
    {
     "data": {
      "text/html": [
       "4"
      ],
      "text/latex": [
       "4"
      ],
      "text/markdown": [
       "4"
      ],
      "text/plain": [
       "[1] 4"
      ]
     },
     "metadata": {},
     "output_type": "display_data"
    },
    {
     "data": {
      "text/html": [
       "'numeric'"
      ],
      "text/latex": [
       "'numeric'"
      ],
      "text/markdown": [
       "'numeric'"
      ],
      "text/plain": [
       "[1] \"numeric\""
      ]
     },
     "metadata": {},
     "output_type": "display_data"
    },
    {
     "data": {
      "text/plain": [
       "   Min. 1st Qu.  Median    Mean 3rd Qu.    Max. \n",
       "  55.00   66.25   77.50   76.25   87.50   95.00 "
      ]
     },
     "metadata": {},
     "output_type": "display_data"
    }
   ],
   "source": [
    "length(scores)\n",
    "class(scores)\n",
    "summary(scores)"
   ]
  },
  {
   "cell_type": "code",
   "execution_count": 33,
   "id": "fbdd5890-5896-4f23-a584-3db0887c8dd5",
   "metadata": {},
   "outputs": [
    {
     "data": {
      "text/html": [
       "5"
      ],
      "text/latex": [
       "5"
      ],
      "text/markdown": [
       "5"
      ],
      "text/plain": [
       "[1] 5"
      ]
     },
     "metadata": {},
     "output_type": "display_data"
    },
    {
     "data": {
      "text/html": [
       "'character'"
      ],
      "text/latex": [
       "'character'"
      ],
      "text/markdown": [
       "'character'"
      ],
      "text/plain": [
       "[1] \"character\""
      ]
     },
     "metadata": {},
     "output_type": "display_data"
    },
    {
     "data": {
      "text/plain": [
       "   Min. 1st Qu.  Median    Mean 3rd Qu.    Max. \n",
       "   19.0    23.0    25.0    25.2    28.0    31.0 "
      ]
     },
     "metadata": {},
     "output_type": "display_data"
    }
   ],
   "source": [
    "#Exercise\n",
    "age = c(23, 25, 19, 31, 28) \n",
    "name = c(\"Ann\", \"Ben\", \"Carl\", \"Dora\", \"Eric\") \n",
    "\n",
    "length(age) #Expected: 5\n",
    "class(name) #Expected: strings or something like that\n",
    "summary(age) #Expected: min 19, 1st Qu. ,? Median 25, Mean 25.2, 3rd Qu. ?, Max 31"
   ]
  },
  {
   "cell_type": "code",
   "execution_count": 15,
   "id": "0d626310-1cc2-45dc-9f3b-d30e0a79f5ba",
   "metadata": {},
   "outputs": [],
   "source": [
    "my_list = list(name = \"Jason\",\n",
    "               age = 22,\n",
    "               scores = c(90, 95, 100),\n",
    "               passed = TRUE)"
   ]
  },
  {
   "cell_type": "code",
   "execution_count": 47,
   "id": "1e2cadf0-2f83-4ac2-8f10-5c615d2dc88f",
   "metadata": {},
   "outputs": [
    {
     "data": {
      "text/html": [
       "'Jason'"
      ],
      "text/latex": [
       "'Jason'"
      ],
      "text/markdown": [
       "'Jason'"
      ],
      "text/plain": [
       "[1] \"Jason\""
      ]
     },
     "metadata": {},
     "output_type": "display_data"
    },
    {
     "data": {
      "text/html": [
       "<style>\n",
       ".list-inline {list-style: none; margin:0; padding: 0}\n",
       ".list-inline>li {display: inline-block}\n",
       ".list-inline>li:not(:last-child)::after {content: \"\\00b7\"; padding: 0 .5ex}\n",
       "</style>\n",
       "<ol class=list-inline><li>90</li><li>95</li><li>100</li></ol>\n"
      ],
      "text/latex": [
       "\\begin{enumerate*}\n",
       "\\item 90\n",
       "\\item 95\n",
       "\\item 100\n",
       "\\end{enumerate*}\n"
      ],
      "text/markdown": [
       "1. 90\n",
       "2. 95\n",
       "3. 100\n",
       "\n",
       "\n"
      ],
      "text/plain": [
       "[1]  90  95 100"
      ]
     },
     "metadata": {},
     "output_type": "display_data"
    },
    {
     "data": {
      "text/html": [
       "<strong>$age</strong> = 22"
      ],
      "text/latex": [
       "\\textbf{\\$age} = 22"
      ],
      "text/markdown": [
       "**$age** = 22"
      ],
      "text/plain": [
       "$age\n",
       "[1] 22\n"
      ]
     },
     "metadata": {},
     "output_type": "display_data"
    }
   ],
   "source": [
    "my_list$name\n",
    "my_list[['scores']]\n",
    "my_list['age']"
   ]
  },
  {
   "cell_type": "code",
   "execution_count": 35,
   "id": "211dcc6d-55b7-4dd5-b055-6493ef4e7112",
   "metadata": {},
   "outputs": [],
   "source": [
    "students = data.frame(id = 1:3,\n",
    "                      name = c(\"Alice\", \"Ben\", \"Carol\"),\n",
    "                      score = c(90, 85, 80),\n",
    "                      passed = c(TRUE, TRUE, FALSE))"
   ]
  },
  {
   "cell_type": "code",
   "execution_count": 43,
   "id": "b3ac80d9-20c1-438d-83a8-65f8001339b7",
   "metadata": {},
   "outputs": [
    {
     "data": {
      "text/html": [
       "<table class=\"dataframe\">\n",
       "<caption>A data.frame: 3 × 4</caption>\n",
       "<thead>\n",
       "\t<tr><th></th><th scope=col>id</th><th scope=col>name</th><th scope=col>score</th><th scope=col>passed</th></tr>\n",
       "\t<tr><th></th><th scope=col>&lt;int&gt;</th><th scope=col>&lt;chr&gt;</th><th scope=col>&lt;dbl&gt;</th><th scope=col>&lt;lgl&gt;</th></tr>\n",
       "</thead>\n",
       "<tbody>\n",
       "\t<tr><th scope=row>1</th><td>1</td><td>Alice</td><td>90</td><td> TRUE</td></tr>\n",
       "\t<tr><th scope=row>2</th><td>2</td><td>Ben  </td><td>85</td><td> TRUE</td></tr>\n",
       "\t<tr><th scope=row>3</th><td>3</td><td>Carol</td><td>80</td><td>FALSE</td></tr>\n",
       "</tbody>\n",
       "</table>\n"
      ],
      "text/latex": [
       "A data.frame: 3 × 4\n",
       "\\begin{tabular}{r|llll}\n",
       "  & id & name & score & passed\\\\\n",
       "  & <int> & <chr> & <dbl> & <lgl>\\\\\n",
       "\\hline\n",
       "\t1 & 1 & Alice & 90 &  TRUE\\\\\n",
       "\t2 & 2 & Ben   & 85 &  TRUE\\\\\n",
       "\t3 & 3 & Carol & 80 & FALSE\\\\\n",
       "\\end{tabular}\n"
      ],
      "text/markdown": [
       "\n",
       "A data.frame: 3 × 4\n",
       "\n",
       "| <!--/--> | id &lt;int&gt; | name &lt;chr&gt; | score &lt;dbl&gt; | passed &lt;lgl&gt; |\n",
       "|---|---|---|---|---|\n",
       "| 1 | 1 | Alice | 90 |  TRUE |\n",
       "| 2 | 2 | Ben   | 85 |  TRUE |\n",
       "| 3 | 3 | Carol | 80 | FALSE |\n",
       "\n"
      ],
      "text/plain": [
       "  id name  score passed\n",
       "1 1  Alice 90     TRUE \n",
       "2 2  Ben   85     TRUE \n",
       "3 3  Carol 80    FALSE "
      ]
     },
     "metadata": {},
     "output_type": "display_data"
    },
    {
     "name": "stdout",
     "output_type": "stream",
     "text": [
      "'data.frame':\t3 obs. of  4 variables:\n",
      " $ id    : int  1 2 3\n",
      " $ name  : chr  \"Alice\" \"Ben\" \"Carol\"\n",
      " $ score : num  90 85 80\n",
      " $ passed: logi  TRUE TRUE FALSE\n"
     ]
    },
    {
     "data": {
      "text/plain": [
       "       id          name               score        passed       \n",
       " Min.   :1.0   Length:3           Min.   :80.0   Mode :logical  \n",
       " 1st Qu.:1.5   Class :character   1st Qu.:82.5   FALSE:1        \n",
       " Median :2.0   Mode  :character   Median :85.0   TRUE :2        \n",
       " Mean   :2.0                      Mean   :85.0                  \n",
       " 3rd Qu.:2.5                      3rd Qu.:87.5                  \n",
       " Max.   :3.0                      Max.   :90.0                  "
      ]
     },
     "metadata": {},
     "output_type": "display_data"
    }
   ],
   "source": [
    "head(students)    \n",
    "str(students)      \n",
    "summary(students) "
   ]
  },
  {
   "cell_type": "code",
   "execution_count": 49,
   "id": "f2ece2ed-553e-435a-a568-1a57eb5c9b10",
   "metadata": {},
   "outputs": [
    {
     "data": {
      "text/html": [
       "'Ann'"
      ],
      "text/latex": [
       "'Ann'"
      ],
      "text/markdown": [
       "'Ann'"
      ],
      "text/plain": [
       "[1] \"Ann\""
      ]
     },
     "metadata": {},
     "output_type": "display_data"
    },
    {
     "data": {
      "text/html": [
       "<style>\n",
       ".list-inline {list-style: none; margin:0; padding: 0}\n",
       ".list-inline>li {display: inline-block}\n",
       ".list-inline>li:not(:last-child)::after {content: \"\\00b7\"; padding: 0 .5ex}\n",
       "</style>\n",
       "<ol class=list-inline><li>'Data'</li><li>'Hiking'</li><li>'Coffee'</li></ol>\n"
      ],
      "text/latex": [
       "\\begin{enumerate*}\n",
       "\\item 'Data'\n",
       "\\item 'Hiking'\n",
       "\\item 'Coffee'\n",
       "\\end{enumerate*}\n"
      ],
      "text/markdown": [
       "1. 'Data'\n",
       "2. 'Hiking'\n",
       "3. 'Coffee'\n",
       "\n",
       "\n"
      ],
      "text/plain": [
       "[1] \"Data\"   \"Hiking\" \"Coffee\""
      ]
     },
     "metadata": {},
     "output_type": "display_data"
    },
    {
     "data": {
      "text/html": [
       "<strong>$age</strong> = 24"
      ],
      "text/latex": [
       "\\textbf{\\$age} = 24"
      ],
      "text/markdown": [
       "**$age** = 24"
      ],
      "text/plain": [
       "$age\n",
       "[1] 24\n"
      ]
     },
     "metadata": {},
     "output_type": "display_data"
    },
    {
     "data": {
      "text/html": [
       "<table class=\"dataframe\">\n",
       "<caption>A data.frame: 4 × 3</caption>\n",
       "<thead>\n",
       "\t<tr><th></th><th scope=col>student</th><th scope=col>math</th><th scope=col>passed</th></tr>\n",
       "\t<tr><th></th><th scope=col>&lt;chr&gt;</th><th scope=col>&lt;dbl&gt;</th><th scope=col>&lt;lgl&gt;</th></tr>\n",
       "</thead>\n",
       "<tbody>\n",
       "\t<tr><th scope=row>1</th><td>A</td><td>90</td><td> TRUE</td></tr>\n",
       "\t<tr><th scope=row>2</th><td>B</td><td>85</td><td> TRUE</td></tr>\n",
       "\t<tr><th scope=row>3</th><td>C</td><td>78</td><td>FALSE</td></tr>\n",
       "\t<tr><th scope=row>4</th><td>D</td><td>92</td><td> TRUE</td></tr>\n",
       "</tbody>\n",
       "</table>\n"
      ],
      "text/latex": [
       "A data.frame: 4 × 3\n",
       "\\begin{tabular}{r|lll}\n",
       "  & student & math & passed\\\\\n",
       "  & <chr> & <dbl> & <lgl>\\\\\n",
       "\\hline\n",
       "\t1 & A & 90 &  TRUE\\\\\n",
       "\t2 & B & 85 &  TRUE\\\\\n",
       "\t3 & C & 78 & FALSE\\\\\n",
       "\t4 & D & 92 &  TRUE\\\\\n",
       "\\end{tabular}\n"
      ],
      "text/markdown": [
       "\n",
       "A data.frame: 4 × 3\n",
       "\n",
       "| <!--/--> | student &lt;chr&gt; | math &lt;dbl&gt; | passed &lt;lgl&gt; |\n",
       "|---|---|---|---|\n",
       "| 1 | A | 90 |  TRUE |\n",
       "| 2 | B | 85 |  TRUE |\n",
       "| 3 | C | 78 | FALSE |\n",
       "| 4 | D | 92 |  TRUE |\n",
       "\n"
      ],
      "text/plain": [
       "  student math passed\n",
       "1 A       90    TRUE \n",
       "2 B       85    TRUE \n",
       "3 C       78   FALSE \n",
       "4 D       92    TRUE "
      ]
     },
     "metadata": {},
     "output_type": "display_data"
    },
    {
     "name": "stdout",
     "output_type": "stream",
     "text": [
      "'data.frame':\t4 obs. of  3 variables:\n",
      " $ student: chr  \"A\" \"B\" \"C\" \"D\"\n",
      " $ math   : num  90 85 78 92\n",
      " $ passed : logi  TRUE TRUE FALSE TRUE\n"
     ]
    },
    {
     "data": {
      "text/plain": [
       "   student               math         passed       \n",
       " Length:4           Min.   :78.00   Mode :logical  \n",
       " Class :character   1st Qu.:83.25   FALSE:1        \n",
       " Mode  :character   Median :87.50   TRUE :3        \n",
       "                    Mean   :86.25                  \n",
       "                    3rd Qu.:90.50                  \n",
       "                    Max.   :92.00                  "
      ]
     },
     "metadata": {},
     "output_type": "display_data"
    }
   ],
   "source": [
    "# Exercising List\n",
    "user = list(name = \"Ann\",\n",
    "            age = 24,\n",
    "            likes = c(\"Data\", \"Hiking\", \"Coffee\"))\n",
    "\n",
    "user$name #Expected: 'Ann'      \n",
    "user[[\"likes\"]] # Expected: 'Data' 'Hiking' 'Coffee'\n",
    "user[\"age\"] #Expected: $age = 24      \n",
    "\n",
    "# Exercising DataFrame\n",
    "grades = data.frame(student = c(\"A\", \"B\", \"C\", \"D\"),\n",
    "                    math = c(90, 85, 78, 92),\n",
    "                    passed = c(TRUE, TRUE, FALSE, TRUE))\n",
    "\n",
    "# How do I type those thing???\n",
    "head(grades) \n",
    "str(grades)\n",
    "summary(grades)"
   ]
  },
  {
   "cell_type": "code",
   "execution_count": 53,
   "id": "8dccffac-8d31-4e3c-b614-5736fbf4457a",
   "metadata": {},
   "outputs": [
    {
     "data": {
      "text/html": [
       "<style>\n",
       ".list-inline {list-style: none; margin:0; padding: 0}\n",
       ".list-inline>li {display: inline-block}\n",
       ".list-inline>li:not(:last-child)::after {content: \"\\00b7\"; padding: 0 .5ex}\n",
       "</style>\n",
       "<ol class=list-inline><li>'Alice'</li><li>'Ben'</li><li>'Carol'</li></ol>\n"
      ],
      "text/latex": [
       "\\begin{enumerate*}\n",
       "\\item 'Alice'\n",
       "\\item 'Ben'\n",
       "\\item 'Carol'\n",
       "\\end{enumerate*}\n"
      ],
      "text/markdown": [
       "1. 'Alice'\n",
       "2. 'Ben'\n",
       "3. 'Carol'\n",
       "\n",
       "\n"
      ],
      "text/plain": [
       "[1] \"Alice\" \"Ben\"   \"Carol\""
      ]
     },
     "metadata": {},
     "output_type": "display_data"
    },
    {
     "data": {
      "text/html": [
       "<style>\n",
       ".list-inline {list-style: none; margin:0; padding: 0}\n",
       ".list-inline>li {display: inline-block}\n",
       ".list-inline>li:not(:last-child)::after {content: \"\\00b7\"; padding: 0 .5ex}\n",
       "</style>\n",
       "<ol class=list-inline><li>90</li><li>85</li><li>80</li></ol>\n"
      ],
      "text/latex": [
       "\\begin{enumerate*}\n",
       "\\item 90\n",
       "\\item 85\n",
       "\\item 80\n",
       "\\end{enumerate*}\n"
      ],
      "text/markdown": [
       "1. 90\n",
       "2. 85\n",
       "3. 80\n",
       "\n",
       "\n"
      ],
      "text/plain": [
       "[1] 90 85 80"
      ]
     },
     "metadata": {},
     "output_type": "display_data"
    },
    {
     "data": {
      "text/html": [
       "<table class=\"dataframe\">\n",
       "<caption>A data.frame: 1 × 4</caption>\n",
       "<thead>\n",
       "\t<tr><th></th><th scope=col>id</th><th scope=col>name</th><th scope=col>score</th><th scope=col>passed</th></tr>\n",
       "\t<tr><th></th><th scope=col>&lt;int&gt;</th><th scope=col>&lt;chr&gt;</th><th scope=col>&lt;dbl&gt;</th><th scope=col>&lt;lgl&gt;</th></tr>\n",
       "</thead>\n",
       "<tbody>\n",
       "\t<tr><th scope=row>1</th><td>1</td><td>Alice</td><td>90</td><td>TRUE</td></tr>\n",
       "</tbody>\n",
       "</table>\n"
      ],
      "text/latex": [
       "A data.frame: 1 × 4\n",
       "\\begin{tabular}{r|llll}\n",
       "  & id & name & score & passed\\\\\n",
       "  & <int> & <chr> & <dbl> & <lgl>\\\\\n",
       "\\hline\n",
       "\t1 & 1 & Alice & 90 & TRUE\\\\\n",
       "\\end{tabular}\n"
      ],
      "text/markdown": [
       "\n",
       "A data.frame: 1 × 4\n",
       "\n",
       "| <!--/--> | id &lt;int&gt; | name &lt;chr&gt; | score &lt;dbl&gt; | passed &lt;lgl&gt; |\n",
       "|---|---|---|---|---|\n",
       "| 1 | 1 | Alice | 90 | TRUE |\n",
       "\n"
      ],
      "text/plain": [
       "  id name  score passed\n",
       "1 1  Alice 90    TRUE  "
      ]
     },
     "metadata": {},
     "output_type": "display_data"
    },
    {
     "data": {
      "text/html": [
       "<style>\n",
       ".list-inline {list-style: none; margin:0; padding: 0}\n",
       ".list-inline>li {display: inline-block}\n",
       ".list-inline>li:not(:last-child)::after {content: \"\\00b7\"; padding: 0 .5ex}\n",
       "</style>\n",
       "<ol class=list-inline><li>'Alice'</li><li>'Ben'</li><li>'Carol'</li></ol>\n"
      ],
      "text/latex": [
       "\\begin{enumerate*}\n",
       "\\item 'Alice'\n",
       "\\item 'Ben'\n",
       "\\item 'Carol'\n",
       "\\end{enumerate*}\n"
      ],
      "text/markdown": [
       "1. 'Alice'\n",
       "2. 'Ben'\n",
       "3. 'Carol'\n",
       "\n",
       "\n"
      ],
      "text/plain": [
       "[1] \"Alice\" \"Ben\"   \"Carol\""
      ]
     },
     "metadata": {},
     "output_type": "display_data"
    },
    {
     "data": {
      "text/html": [
       "<style>\n",
       ".list-inline {list-style: none; margin:0; padding: 0}\n",
       ".list-inline>li {display: inline-block}\n",
       ".list-inline>li:not(:last-child)::after {content: \"\\00b7\"; padding: 0 .5ex}\n",
       "</style>\n",
       "<ol class=list-inline><li>TRUE</li><li>TRUE</li><li>FALSE</li></ol>\n"
      ],
      "text/latex": [
       "\\begin{enumerate*}\n",
       "\\item TRUE\n",
       "\\item TRUE\n",
       "\\item FALSE\n",
       "\\end{enumerate*}\n"
      ],
      "text/markdown": [
       "1. TRUE\n",
       "2. TRUE\n",
       "3. FALSE\n",
       "\n",
       "\n"
      ],
      "text/plain": [
       "[1]  TRUE  TRUE FALSE"
      ]
     },
     "metadata": {},
     "output_type": "display_data"
    },
    {
     "data": {
      "text/html": [
       "<table class=\"dataframe\">\n",
       "<caption>A data.frame: 3 × 2</caption>\n",
       "<thead>\n",
       "\t<tr><th scope=col>name</th><th scope=col>score</th></tr>\n",
       "\t<tr><th scope=col>&lt;chr&gt;</th><th scope=col>&lt;dbl&gt;</th></tr>\n",
       "</thead>\n",
       "<tbody>\n",
       "\t<tr><td>Alice</td><td>90</td></tr>\n",
       "\t<tr><td>Ben  </td><td>85</td></tr>\n",
       "\t<tr><td>Carol</td><td>80</td></tr>\n",
       "</tbody>\n",
       "</table>\n"
      ],
      "text/latex": [
       "A data.frame: 3 × 2\n",
       "\\begin{tabular}{ll}\n",
       " name & score\\\\\n",
       " <chr> & <dbl>\\\\\n",
       "\\hline\n",
       "\t Alice & 90\\\\\n",
       "\t Ben   & 85\\\\\n",
       "\t Carol & 80\\\\\n",
       "\\end{tabular}\n"
      ],
      "text/markdown": [
       "\n",
       "A data.frame: 3 × 2\n",
       "\n",
       "| name &lt;chr&gt; | score &lt;dbl&gt; |\n",
       "|---|---|\n",
       "| Alice | 90 |\n",
       "| Ben   | 85 |\n",
       "| Carol | 80 |\n",
       "\n"
      ],
      "text/plain": [
       "  name  score\n",
       "1 Alice 90   \n",
       "2 Ben   85   \n",
       "3 Carol 80   "
      ]
     },
     "metadata": {},
     "output_type": "display_data"
    }
   ],
   "source": [
    "students$name\n",
    "\n",
    "students[[\"score\"]]\n",
    "\n",
    "students[1, ]\n",
    "\n",
    "students[, 2]\n",
    "\n",
    "students[, \"passed\"]\n",
    "\n",
    "students[, c(\"name\", \"score\")]"
   ]
  },
  {
   "cell_type": "code",
   "execution_count": 57,
   "id": "75539fd9-7723-45d5-a6ea-5d173bb3a962",
   "metadata": {},
   "outputs": [
    {
     "data": {
      "text/html": [
       "<table class=\"dataframe\">\n",
       "<caption>A data.frame: 1 × 4</caption>\n",
       "<thead>\n",
       "\t<tr><th></th><th scope=col>id</th><th scope=col>name</th><th scope=col>score</th><th scope=col>passed</th></tr>\n",
       "\t<tr><th></th><th scope=col>&lt;int&gt;</th><th scope=col>&lt;chr&gt;</th><th scope=col>&lt;dbl&gt;</th><th scope=col>&lt;lgl&gt;</th></tr>\n",
       "</thead>\n",
       "<tbody>\n",
       "\t<tr><th scope=row>1</th><td>1</td><td>Alice</td><td>90</td><td>TRUE</td></tr>\n",
       "</tbody>\n",
       "</table>\n"
      ],
      "text/latex": [
       "A data.frame: 1 × 4\n",
       "\\begin{tabular}{r|llll}\n",
       "  & id & name & score & passed\\\\\n",
       "  & <int> & <chr> & <dbl> & <lgl>\\\\\n",
       "\\hline\n",
       "\t1 & 1 & Alice & 90 & TRUE\\\\\n",
       "\\end{tabular}\n"
      ],
      "text/markdown": [
       "\n",
       "A data.frame: 1 × 4\n",
       "\n",
       "| <!--/--> | id &lt;int&gt; | name &lt;chr&gt; | score &lt;dbl&gt; | passed &lt;lgl&gt; |\n",
       "|---|---|---|---|---|\n",
       "| 1 | 1 | Alice | 90 | TRUE |\n",
       "\n"
      ],
      "text/plain": [
       "  id name  score passed\n",
       "1 1  Alice 90    TRUE  "
      ]
     },
     "metadata": {},
     "output_type": "display_data"
    },
    {
     "data": {
      "text/html": [
       "<table class=\"dataframe\">\n",
       "<caption>A data.frame: 1 × 4</caption>\n",
       "<thead>\n",
       "\t<tr><th></th><th scope=col>id</th><th scope=col>name</th><th scope=col>score</th><th scope=col>passed</th></tr>\n",
       "\t<tr><th></th><th scope=col>&lt;int&gt;</th><th scope=col>&lt;chr&gt;</th><th scope=col>&lt;dbl&gt;</th><th scope=col>&lt;lgl&gt;</th></tr>\n",
       "</thead>\n",
       "<tbody>\n",
       "\t<tr><th scope=row>1</th><td>1</td><td>Alice</td><td>90</td><td>TRUE</td></tr>\n",
       "</tbody>\n",
       "</table>\n"
      ],
      "text/latex": [
       "A data.frame: 1 × 4\n",
       "\\begin{tabular}{r|llll}\n",
       "  & id & name & score & passed\\\\\n",
       "  & <int> & <chr> & <dbl> & <lgl>\\\\\n",
       "\\hline\n",
       "\t1 & 1 & Alice & 90 & TRUE\\\\\n",
       "\\end{tabular}\n"
      ],
      "text/markdown": [
       "\n",
       "A data.frame: 1 × 4\n",
       "\n",
       "| <!--/--> | id &lt;int&gt; | name &lt;chr&gt; | score &lt;dbl&gt; | passed &lt;lgl&gt; |\n",
       "|---|---|---|---|---|\n",
       "| 1 | 1 | Alice | 90 | TRUE |\n",
       "\n"
      ],
      "text/plain": [
       "  id name  score passed\n",
       "1 1  Alice 90    TRUE  "
      ]
     },
     "metadata": {},
     "output_type": "display_data"
    },
    {
     "data": {
      "text/html": [
       "<table class=\"dataframe\">\n",
       "<caption>A data.frame: 1 × 4</caption>\n",
       "<thead>\n",
       "\t<tr><th></th><th scope=col>id</th><th scope=col>name</th><th scope=col>score</th><th scope=col>passed</th></tr>\n",
       "\t<tr><th></th><th scope=col>&lt;int&gt;</th><th scope=col>&lt;chr&gt;</th><th scope=col>&lt;dbl&gt;</th><th scope=col>&lt;lgl&gt;</th></tr>\n",
       "</thead>\n",
       "<tbody>\n",
       "\t<tr><th scope=row>3</th><td>3</td><td>Carol</td><td>80</td><td>FALSE</td></tr>\n",
       "</tbody>\n",
       "</table>\n"
      ],
      "text/latex": [
       "A data.frame: 1 × 4\n",
       "\\begin{tabular}{r|llll}\n",
       "  & id & name & score & passed\\\\\n",
       "  & <int> & <chr> & <dbl> & <lgl>\\\\\n",
       "\\hline\n",
       "\t3 & 3 & Carol & 80 & FALSE\\\\\n",
       "\\end{tabular}\n"
      ],
      "text/markdown": [
       "\n",
       "A data.frame: 1 × 4\n",
       "\n",
       "| <!--/--> | id &lt;int&gt; | name &lt;chr&gt; | score &lt;dbl&gt; | passed &lt;lgl&gt; |\n",
       "|---|---|---|---|---|\n",
       "| 3 | 3 | Carol | 80 | FALSE |\n",
       "\n"
      ],
      "text/plain": [
       "  id name  score passed\n",
       "3 3  Carol 80    FALSE "
      ]
     },
     "metadata": {},
     "output_type": "display_data"
    }
   ],
   "source": [
    "students[students$score > 85, ]\n",
    "\n",
    "students[students$score > 85 & students$passed == TRUE, ]\n",
    "\n",
    "students[students$score > 90 | students$passed == FALSE, ]"
   ]
  },
  {
   "cell_type": "code",
   "execution_count": 91,
   "id": "e38bf4a0-2d43-4fbf-8ea6-dcb0dbac2c8b",
   "metadata": {},
   "outputs": [
    {
     "data": {
      "text/html": [
       "<table class=\"dataframe\">\n",
       "<caption>A data.frame: 3 × 4</caption>\n",
       "<thead>\n",
       "\t<tr><th></th><th scope=col>id</th><th scope=col>name</th><th scope=col>math</th><th scope=col>passed</th></tr>\n",
       "\t<tr><th></th><th scope=col>&lt;int&gt;</th><th scope=col>&lt;chr&gt;</th><th scope=col>&lt;dbl&gt;</th><th scope=col>&lt;lgl&gt;</th></tr>\n",
       "</thead>\n",
       "<tbody>\n",
       "\t<tr><th scope=row>2</th><td>2</td><td>Ben  </td><td>92</td><td>TRUE</td></tr>\n",
       "\t<tr><th scope=row>3</th><td>3</td><td>Cathy</td><td>85</td><td>TRUE</td></tr>\n",
       "\t<tr><th scope=row>5</th><td>5</td><td>Eva  </td><td>88</td><td>TRUE</td></tr>\n",
       "</tbody>\n",
       "</table>\n"
      ],
      "text/latex": [
       "A data.frame: 3 × 4\n",
       "\\begin{tabular}{r|llll}\n",
       "  & id & name & math & passed\\\\\n",
       "  & <int> & <chr> & <dbl> & <lgl>\\\\\n",
       "\\hline\n",
       "\t2 & 2 & Ben   & 92 & TRUE\\\\\n",
       "\t3 & 3 & Cathy & 85 & TRUE\\\\\n",
       "\t5 & 5 & Eva   & 88 & TRUE\\\\\n",
       "\\end{tabular}\n"
      ],
      "text/markdown": [
       "\n",
       "A data.frame: 3 × 4\n",
       "\n",
       "| <!--/--> | id &lt;int&gt; | name &lt;chr&gt; | math &lt;dbl&gt; | passed &lt;lgl&gt; |\n",
       "|---|---|---|---|---|\n",
       "| 2 | 2 | Ben   | 92 | TRUE |\n",
       "| 3 | 3 | Cathy | 85 | TRUE |\n",
       "| 5 | 5 | Eva   | 88 | TRUE |\n",
       "\n"
      ],
      "text/plain": [
       "  id name  math passed\n",
       "2 2  Ben   92   TRUE  \n",
       "3 3  Cathy 85   TRUE  \n",
       "5 5  Eva   88   TRUE  "
      ]
     },
     "metadata": {},
     "output_type": "display_data"
    },
    {
     "data": {
      "text/html": [
       "<table class=\"dataframe\">\n",
       "<caption>A data.frame: 5 × 2</caption>\n",
       "<thead>\n",
       "\t<tr><th scope=col>name</th><th scope=col>passed</th></tr>\n",
       "\t<tr><th scope=col>&lt;chr&gt;</th><th scope=col>&lt;lgl&gt;</th></tr>\n",
       "</thead>\n",
       "<tbody>\n",
       "\t<tr><td>Ann  </td><td> TRUE</td></tr>\n",
       "\t<tr><td>Ben  </td><td> TRUE</td></tr>\n",
       "\t<tr><td>Cathy</td><td> TRUE</td></tr>\n",
       "\t<tr><td>Dan  </td><td>FALSE</td></tr>\n",
       "\t<tr><td>Eva  </td><td> TRUE</td></tr>\n",
       "</tbody>\n",
       "</table>\n"
      ],
      "text/latex": [
       "A data.frame: 5 × 2\n",
       "\\begin{tabular}{ll}\n",
       " name & passed\\\\\n",
       " <chr> & <lgl>\\\\\n",
       "\\hline\n",
       "\t Ann   &  TRUE\\\\\n",
       "\t Ben   &  TRUE\\\\\n",
       "\t Cathy &  TRUE\\\\\n",
       "\t Dan   & FALSE\\\\\n",
       "\t Eva   &  TRUE\\\\\n",
       "\\end{tabular}\n"
      ],
      "text/markdown": [
       "\n",
       "A data.frame: 5 × 2\n",
       "\n",
       "| name &lt;chr&gt; | passed &lt;lgl&gt; |\n",
       "|---|---|\n",
       "| Ann   |  TRUE |\n",
       "| Ben   |  TRUE |\n",
       "| Cathy |  TRUE |\n",
       "| Dan   | FALSE |\n",
       "| Eva   |  TRUE |\n",
       "\n"
      ],
      "text/plain": [
       "  name  passed\n",
       "1 Ann    TRUE \n",
       "2 Ben    TRUE \n",
       "3 Cathy  TRUE \n",
       "4 Dan   FALSE \n",
       "5 Eva    TRUE "
      ]
     },
     "metadata": {},
     "output_type": "display_data"
    },
    {
     "data": {
      "text/html": [
       "<table class=\"dataframe\">\n",
       "<caption>A data.frame: 2 × 4</caption>\n",
       "<thead>\n",
       "\t<tr><th></th><th scope=col>id</th><th scope=col>name</th><th scope=col>math</th><th scope=col>passed</th></tr>\n",
       "\t<tr><th></th><th scope=col>&lt;int&gt;</th><th scope=col>&lt;chr&gt;</th><th scope=col>&lt;dbl&gt;</th><th scope=col>&lt;lgl&gt;</th></tr>\n",
       "</thead>\n",
       "<tbody>\n",
       "\t<tr><th scope=row>3</th><td>3</td><td>Cathy</td><td>85</td><td>TRUE</td></tr>\n",
       "\t<tr><th scope=row>5</th><td>5</td><td>Eva  </td><td>88</td><td>TRUE</td></tr>\n",
       "</tbody>\n",
       "</table>\n"
      ],
      "text/latex": [
       "A data.frame: 2 × 4\n",
       "\\begin{tabular}{r|llll}\n",
       "  & id & name & math & passed\\\\\n",
       "  & <int> & <chr> & <dbl> & <lgl>\\\\\n",
       "\\hline\n",
       "\t3 & 3 & Cathy & 85 & TRUE\\\\\n",
       "\t5 & 5 & Eva   & 88 & TRUE\\\\\n",
       "\\end{tabular}\n"
      ],
      "text/markdown": [
       "\n",
       "A data.frame: 2 × 4\n",
       "\n",
       "| <!--/--> | id &lt;int&gt; | name &lt;chr&gt; | math &lt;dbl&gt; | passed &lt;lgl&gt; |\n",
       "|---|---|---|---|---|\n",
       "| 3 | 3 | Cathy | 85 | TRUE |\n",
       "| 5 | 5 | Eva   | 88 | TRUE |\n",
       "\n"
      ],
      "text/plain": [
       "  id name  math passed\n",
       "3 3  Cathy 85   TRUE  \n",
       "5 5  Eva   88   TRUE  "
      ]
     },
     "metadata": {},
     "output_type": "display_data"
    }
   ],
   "source": [
    "students = data.frame(id = 1:5,\n",
    "                      name = c(\"Ann\", \"Ben\", \"Cathy\", \"Dan\", \"Eva\"),\n",
    "                      math = c(78, 92, 85, 66, 88),\n",
    "                      passed = c(TRUE, TRUE, TRUE, FALSE, TRUE))\n",
    "\n",
    "# Exercise\n",
    "# 1. Show student data with scores > 80\n",
    "# 2. Show only 'name' and 'passed'\n",
    "# 3. Show student data with scores between 80 and 90\n",
    "\n",
    "students[students$math > 80,]\n",
    "\n",
    "students[, c('name', 'passed')]\n",
    "\n",
    "students[80 < students$math & students$math < 90,]"
   ]
  }
 ],
 "metadata": {
  "kernelspec": {
   "display_name": "R [conda env:r_env]",
   "language": "R",
   "name": "conda-env-r_env-r"
  },
  "language_info": {
   "codemirror_mode": "r",
   "file_extension": ".r",
   "mimetype": "text/x-r-source",
   "name": "R",
   "pygments_lexer": "r",
   "version": "4.3.3"
  }
 },
 "nbformat": 4,
 "nbformat_minor": 5
}
