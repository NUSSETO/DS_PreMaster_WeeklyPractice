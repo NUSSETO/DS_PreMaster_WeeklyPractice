{
 "cells": [
  {
   "cell_type": "code",
   "execution_count": 3,
   "id": "f2d599e9-b6b0-4762-9015-3922168e55cd",
   "metadata": {},
   "outputs": [
    {
     "name": "stderr",
     "output_type": "stream",
     "text": [
      "── \u001b[1mAttaching core tidyverse packages\u001b[22m ──────────────────────── tidyverse 2.0.0 ──\n",
      "\u001b[32m✔\u001b[39m \u001b[34mdplyr    \u001b[39m 1.1.4     \u001b[32m✔\u001b[39m \u001b[34mreadr    \u001b[39m 2.1.5\n",
      "\u001b[32m✔\u001b[39m \u001b[34mforcats  \u001b[39m 1.0.0     \u001b[32m✔\u001b[39m \u001b[34mstringr  \u001b[39m 1.5.1\n",
      "\u001b[32m✔\u001b[39m \u001b[34mggplot2  \u001b[39m 3.5.2     \u001b[32m✔\u001b[39m \u001b[34mtibble   \u001b[39m 3.2.1\n",
      "\u001b[32m✔\u001b[39m \u001b[34mlubridate\u001b[39m 1.9.4     \u001b[32m✔\u001b[39m \u001b[34mtidyr    \u001b[39m 1.3.1\n",
      "\u001b[32m✔\u001b[39m \u001b[34mpurrr    \u001b[39m 1.0.4     \n",
      "── \u001b[1mConflicts\u001b[22m ────────────────────────────────────────── tidyverse_conflicts() ──\n",
      "\u001b[31m✖\u001b[39m \u001b[34mdplyr\u001b[39m::\u001b[32mfilter()\u001b[39m masks \u001b[34mstats\u001b[39m::filter()\n",
      "\u001b[31m✖\u001b[39m \u001b[34mdplyr\u001b[39m::\u001b[32mlag()\u001b[39m    masks \u001b[34mstats\u001b[39m::lag()\n",
      "\u001b[36mℹ\u001b[39m Use the conflicted package (\u001b[3m\u001b[34m<http://conflicted.r-lib.org/>\u001b[39m\u001b[23m) to force all conflicts to become errors\n"
     ]
    }
   ],
   "source": [
    "library(tidyverse)"
   ]
  },
  {
   "cell_type": "code",
   "execution_count": 45,
   "id": "84c871f4-7045-4f0e-8158-dda32db89de4",
   "metadata": {},
   "outputs": [
    {
     "data": {
      "text/html": [
       "<table class=\"dataframe\">\n",
       "<caption>A tibble: 5 × 5</caption>\n",
       "<thead>\n",
       "\t<tr><th scope=col>id</th><th scope=col>name</th><th scope=col>math</th><th scope=col>english</th><th scope=col>passed</th></tr>\n",
       "\t<tr><th scope=col>&lt;int&gt;</th><th scope=col>&lt;chr&gt;</th><th scope=col>&lt;dbl&gt;</th><th scope=col>&lt;dbl&gt;</th><th scope=col>&lt;lgl&gt;</th></tr>\n",
       "</thead>\n",
       "<tbody>\n",
       "\t<tr><td>1</td><td>Ann  </td><td>78</td><td>70</td><td> TRUE</td></tr>\n",
       "\t<tr><td>2</td><td>Ben  </td><td>92</td><td>85</td><td> TRUE</td></tr>\n",
       "\t<tr><td>3</td><td>Cathy</td><td>85</td><td>90</td><td> TRUE</td></tr>\n",
       "\t<tr><td>4</td><td>Dan  </td><td>66</td><td>75</td><td>FALSE</td></tr>\n",
       "\t<tr><td>5</td><td>Eva  </td><td>88</td><td>80</td><td> TRUE</td></tr>\n",
       "</tbody>\n",
       "</table>\n"
      ],
      "text/latex": [
       "A tibble: 5 × 5\n",
       "\\begin{tabular}{lllll}\n",
       " id & name & math & english & passed\\\\\n",
       " <int> & <chr> & <dbl> & <dbl> & <lgl>\\\\\n",
       "\\hline\n",
       "\t 1 & Ann   & 78 & 70 &  TRUE\\\\\n",
       "\t 2 & Ben   & 92 & 85 &  TRUE\\\\\n",
       "\t 3 & Cathy & 85 & 90 &  TRUE\\\\\n",
       "\t 4 & Dan   & 66 & 75 & FALSE\\\\\n",
       "\t 5 & Eva   & 88 & 80 &  TRUE\\\\\n",
       "\\end{tabular}\n"
      ],
      "text/markdown": [
       "\n",
       "A tibble: 5 × 5\n",
       "\n",
       "| id &lt;int&gt; | name &lt;chr&gt; | math &lt;dbl&gt; | english &lt;dbl&gt; | passed &lt;lgl&gt; |\n",
       "|---|---|---|---|---|\n",
       "| 1 | Ann   | 78 | 70 |  TRUE |\n",
       "| 2 | Ben   | 92 | 85 |  TRUE |\n",
       "| 3 | Cathy | 85 | 90 |  TRUE |\n",
       "| 4 | Dan   | 66 | 75 | FALSE |\n",
       "| 5 | Eva   | 88 | 80 |  TRUE |\n",
       "\n"
      ],
      "text/plain": [
       "  id name  math english passed\n",
       "1 1  Ann   78   70       TRUE \n",
       "2 2  Ben   92   85       TRUE \n",
       "3 3  Cathy 85   90       TRUE \n",
       "4 4  Dan   66   75      FALSE \n",
       "5 5  Eva   88   80       TRUE "
      ]
     },
     "metadata": {},
     "output_type": "display_data"
    }
   ],
   "source": [
    "students = tibble(id = 1:5,\n",
    "                   name = c(\"Ann\", \"Ben\", \"Cathy\", \"Dan\", \"Eva\"),\n",
    "                   math = c(78, 92, 85, 66, 88),\n",
    "                   english = c(70, 85, 90, 75, 80),\n",
    "                   passed = c(TRUE, TRUE, TRUE, FALSE, TRUE))\n",
    "\n",
    "students"
   ]
  },
  {
   "cell_type": "code",
   "execution_count": 53,
   "id": "055509e6-f409-4967-8204-5b4ece41e92d",
   "metadata": {},
   "outputs": [
    {
     "data": {
      "text/html": [
       "<table class=\"dataframe\">\n",
       "<caption>A tibble: 5 × 2</caption>\n",
       "<thead>\n",
       "\t<tr><th scope=col>name</th><th scope=col>math</th></tr>\n",
       "\t<tr><th scope=col>&lt;chr&gt;</th><th scope=col>&lt;dbl&gt;</th></tr>\n",
       "</thead>\n",
       "<tbody>\n",
       "\t<tr><td>Ann  </td><td>78</td></tr>\n",
       "\t<tr><td>Ben  </td><td>92</td></tr>\n",
       "\t<tr><td>Cathy</td><td>85</td></tr>\n",
       "\t<tr><td>Dan  </td><td>66</td></tr>\n",
       "\t<tr><td>Eva  </td><td>88</td></tr>\n",
       "</tbody>\n",
       "</table>\n"
      ],
      "text/latex": [
       "A tibble: 5 × 2\n",
       "\\begin{tabular}{ll}\n",
       " name & math\\\\\n",
       " <chr> & <dbl>\\\\\n",
       "\\hline\n",
       "\t Ann   & 78\\\\\n",
       "\t Ben   & 92\\\\\n",
       "\t Cathy & 85\\\\\n",
       "\t Dan   & 66\\\\\n",
       "\t Eva   & 88\\\\\n",
       "\\end{tabular}\n"
      ],
      "text/markdown": [
       "\n",
       "A tibble: 5 × 2\n",
       "\n",
       "| name &lt;chr&gt; | math &lt;dbl&gt; |\n",
       "|---|---|\n",
       "| Ann   | 78 |\n",
       "| Ben   | 92 |\n",
       "| Cathy | 85 |\n",
       "| Dan   | 66 |\n",
       "| Eva   | 88 |\n",
       "\n"
      ],
      "text/plain": [
       "  name  math\n",
       "1 Ann   78  \n",
       "2 Ben   92  \n",
       "3 Cathy 85  \n",
       "4 Dan   66  \n",
       "5 Eva   88  "
      ]
     },
     "metadata": {},
     "output_type": "display_data"
    }
   ],
   "source": [
    "students %>% select(name, math)"
   ]
  },
  {
   "cell_type": "code",
   "execution_count": 55,
   "id": "3fdb5735-b9c3-4675-932d-8e099af9a57c",
   "metadata": {},
   "outputs": [
    {
     "data": {
      "text/html": [
       "<table class=\"dataframe\">\n",
       "<caption>A tibble: 5 × 4</caption>\n",
       "<thead>\n",
       "\t<tr><th scope=col>name</th><th scope=col>math</th><th scope=col>english</th><th scope=col>passed</th></tr>\n",
       "\t<tr><th scope=col>&lt;chr&gt;</th><th scope=col>&lt;dbl&gt;</th><th scope=col>&lt;dbl&gt;</th><th scope=col>&lt;lgl&gt;</th></tr>\n",
       "</thead>\n",
       "<tbody>\n",
       "\t<tr><td>Ann  </td><td>78</td><td>70</td><td> TRUE</td></tr>\n",
       "\t<tr><td>Ben  </td><td>92</td><td>85</td><td> TRUE</td></tr>\n",
       "\t<tr><td>Cathy</td><td>85</td><td>90</td><td> TRUE</td></tr>\n",
       "\t<tr><td>Dan  </td><td>66</td><td>75</td><td>FALSE</td></tr>\n",
       "\t<tr><td>Eva  </td><td>88</td><td>80</td><td> TRUE</td></tr>\n",
       "</tbody>\n",
       "</table>\n"
      ],
      "text/latex": [
       "A tibble: 5 × 4\n",
       "\\begin{tabular}{llll}\n",
       " name & math & english & passed\\\\\n",
       " <chr> & <dbl> & <dbl> & <lgl>\\\\\n",
       "\\hline\n",
       "\t Ann   & 78 & 70 &  TRUE\\\\\n",
       "\t Ben   & 92 & 85 &  TRUE\\\\\n",
       "\t Cathy & 85 & 90 &  TRUE\\\\\n",
       "\t Dan   & 66 & 75 & FALSE\\\\\n",
       "\t Eva   & 88 & 80 &  TRUE\\\\\n",
       "\\end{tabular}\n"
      ],
      "text/markdown": [
       "\n",
       "A tibble: 5 × 4\n",
       "\n",
       "| name &lt;chr&gt; | math &lt;dbl&gt; | english &lt;dbl&gt; | passed &lt;lgl&gt; |\n",
       "|---|---|---|---|\n",
       "| Ann   | 78 | 70 |  TRUE |\n",
       "| Ben   | 92 | 85 |  TRUE |\n",
       "| Cathy | 85 | 90 |  TRUE |\n",
       "| Dan   | 66 | 75 | FALSE |\n",
       "| Eva   | 88 | 80 |  TRUE |\n",
       "\n"
      ],
      "text/plain": [
       "  name  math english passed\n",
       "1 Ann   78   70       TRUE \n",
       "2 Ben   92   85       TRUE \n",
       "3 Cathy 85   90       TRUE \n",
       "4 Dan   66   75      FALSE \n",
       "5 Eva   88   80       TRUE "
      ]
     },
     "metadata": {},
     "output_type": "display_data"
    }
   ],
   "source": [
    "students %>% select(-id)"
   ]
  },
  {
   "cell_type": "code",
   "execution_count": 57,
   "id": "366c0125-244f-4da2-b16c-e866b44e3546",
   "metadata": {},
   "outputs": [
    {
     "data": {
      "text/html": [
       "<table class=\"dataframe\">\n",
       "<caption>A tibble: 3 × 5</caption>\n",
       "<thead>\n",
       "\t<tr><th scope=col>id</th><th scope=col>name</th><th scope=col>math</th><th scope=col>english</th><th scope=col>passed</th></tr>\n",
       "\t<tr><th scope=col>&lt;int&gt;</th><th scope=col>&lt;chr&gt;</th><th scope=col>&lt;dbl&gt;</th><th scope=col>&lt;dbl&gt;</th><th scope=col>&lt;lgl&gt;</th></tr>\n",
       "</thead>\n",
       "<tbody>\n",
       "\t<tr><td>2</td><td>Ben  </td><td>92</td><td>85</td><td>TRUE</td></tr>\n",
       "\t<tr><td>3</td><td>Cathy</td><td>85</td><td>90</td><td>TRUE</td></tr>\n",
       "\t<tr><td>5</td><td>Eva  </td><td>88</td><td>80</td><td>TRUE</td></tr>\n",
       "</tbody>\n",
       "</table>\n"
      ],
      "text/latex": [
       "A tibble: 3 × 5\n",
       "\\begin{tabular}{lllll}\n",
       " id & name & math & english & passed\\\\\n",
       " <int> & <chr> & <dbl> & <dbl> & <lgl>\\\\\n",
       "\\hline\n",
       "\t 2 & Ben   & 92 & 85 & TRUE\\\\\n",
       "\t 3 & Cathy & 85 & 90 & TRUE\\\\\n",
       "\t 5 & Eva   & 88 & 80 & TRUE\\\\\n",
       "\\end{tabular}\n"
      ],
      "text/markdown": [
       "\n",
       "A tibble: 3 × 5\n",
       "\n",
       "| id &lt;int&gt; | name &lt;chr&gt; | math &lt;dbl&gt; | english &lt;dbl&gt; | passed &lt;lgl&gt; |\n",
       "|---|---|---|---|---|\n",
       "| 2 | Ben   | 92 | 85 | TRUE |\n",
       "| 3 | Cathy | 85 | 90 | TRUE |\n",
       "| 5 | Eva   | 88 | 80 | TRUE |\n",
       "\n"
      ],
      "text/plain": [
       "  id name  math english passed\n",
       "1 2  Ben   92   85      TRUE  \n",
       "2 3  Cathy 85   90      TRUE  \n",
       "3 5  Eva   88   80      TRUE  "
      ]
     },
     "metadata": {},
     "output_type": "display_data"
    }
   ],
   "source": [
    "students %>% filter(math > 80)"
   ]
  },
  {
   "cell_type": "code",
   "execution_count": 59,
   "id": "a29bf19f-a383-4659-9e2a-f224c7c3e9b3",
   "metadata": {},
   "outputs": [
    {
     "data": {
      "text/html": [
       "<table class=\"dataframe\">\n",
       "<caption>A tibble: 2 × 5</caption>\n",
       "<thead>\n",
       "\t<tr><th scope=col>id</th><th scope=col>name</th><th scope=col>math</th><th scope=col>english</th><th scope=col>passed</th></tr>\n",
       "\t<tr><th scope=col>&lt;int&gt;</th><th scope=col>&lt;chr&gt;</th><th scope=col>&lt;dbl&gt;</th><th scope=col>&lt;dbl&gt;</th><th scope=col>&lt;lgl&gt;</th></tr>\n",
       "</thead>\n",
       "<tbody>\n",
       "\t<tr><td>2</td><td>Ben</td><td>92</td><td>85</td><td>TRUE</td></tr>\n",
       "\t<tr><td>5</td><td>Eva</td><td>88</td><td>80</td><td>TRUE</td></tr>\n",
       "</tbody>\n",
       "</table>\n"
      ],
      "text/latex": [
       "A tibble: 2 × 5\n",
       "\\begin{tabular}{lllll}\n",
       " id & name & math & english & passed\\\\\n",
       " <int> & <chr> & <dbl> & <dbl> & <lgl>\\\\\n",
       "\\hline\n",
       "\t 2 & Ben & 92 & 85 & TRUE\\\\\n",
       "\t 5 & Eva & 88 & 80 & TRUE\\\\\n",
       "\\end{tabular}\n"
      ],
      "text/markdown": [
       "\n",
       "A tibble: 2 × 5\n",
       "\n",
       "| id &lt;int&gt; | name &lt;chr&gt; | math &lt;dbl&gt; | english &lt;dbl&gt; | passed &lt;lgl&gt; |\n",
       "|---|---|---|---|---|\n",
       "| 2 | Ben | 92 | 85 | TRUE |\n",
       "| 5 | Eva | 88 | 80 | TRUE |\n",
       "\n"
      ],
      "text/plain": [
       "  id name math english passed\n",
       "1 2  Ben  92   85      TRUE  \n",
       "2 5  Eva  88   80      TRUE  "
      ]
     },
     "metadata": {},
     "output_type": "display_data"
    }
   ],
   "source": [
    "students %>% filter(math > 80 & english < 90)"
   ]
  },
  {
   "cell_type": "code",
   "execution_count": 61,
   "id": "5ccc1ca4-fafc-495a-b58e-d4dd7cbd9c9f",
   "metadata": {},
   "outputs": [
    {
     "data": {
      "text/html": [
       "<table class=\"dataframe\">\n",
       "<caption>A tibble: 4 × 5</caption>\n",
       "<thead>\n",
       "\t<tr><th scope=col>id</th><th scope=col>name</th><th scope=col>math</th><th scope=col>english</th><th scope=col>passed</th></tr>\n",
       "\t<tr><th scope=col>&lt;int&gt;</th><th scope=col>&lt;chr&gt;</th><th scope=col>&lt;dbl&gt;</th><th scope=col>&lt;dbl&gt;</th><th scope=col>&lt;lgl&gt;</th></tr>\n",
       "</thead>\n",
       "<tbody>\n",
       "\t<tr><td>2</td><td>Ben  </td><td>92</td><td>85</td><td> TRUE</td></tr>\n",
       "\t<tr><td>3</td><td>Cathy</td><td>85</td><td>90</td><td> TRUE</td></tr>\n",
       "\t<tr><td>4</td><td>Dan  </td><td>66</td><td>75</td><td>FALSE</td></tr>\n",
       "\t<tr><td>5</td><td>Eva  </td><td>88</td><td>80</td><td> TRUE</td></tr>\n",
       "</tbody>\n",
       "</table>\n"
      ],
      "text/latex": [
       "A tibble: 4 × 5\n",
       "\\begin{tabular}{lllll}\n",
       " id & name & math & english & passed\\\\\n",
       " <int> & <chr> & <dbl> & <dbl> & <lgl>\\\\\n",
       "\\hline\n",
       "\t 2 & Ben   & 92 & 85 &  TRUE\\\\\n",
       "\t 3 & Cathy & 85 & 90 &  TRUE\\\\\n",
       "\t 4 & Dan   & 66 & 75 & FALSE\\\\\n",
       "\t 5 & Eva   & 88 & 80 &  TRUE\\\\\n",
       "\\end{tabular}\n"
      ],
      "text/markdown": [
       "\n",
       "A tibble: 4 × 5\n",
       "\n",
       "| id &lt;int&gt; | name &lt;chr&gt; | math &lt;dbl&gt; | english &lt;dbl&gt; | passed &lt;lgl&gt; |\n",
       "|---|---|---|---|---|\n",
       "| 2 | Ben   | 92 | 85 |  TRUE |\n",
       "| 3 | Cathy | 85 | 90 |  TRUE |\n",
       "| 4 | Dan   | 66 | 75 | FALSE |\n",
       "| 5 | Eva   | 88 | 80 |  TRUE |\n",
       "\n"
      ],
      "text/plain": [
       "  id name  math english passed\n",
       "1 2  Ben   92   85       TRUE \n",
       "2 3  Cathy 85   90       TRUE \n",
       "3 4  Dan   66   75      FALSE \n",
       "4 5  Eva   88   80       TRUE "
      ]
     },
     "metadata": {},
     "output_type": "display_data"
    }
   ],
   "source": [
    "students %>% filter(math > 80 | passed == FALSE)"
   ]
  },
  {
   "cell_type": "code",
   "execution_count": 63,
   "id": "1162d52f-9139-4176-a68d-1fd94dafd3a0",
   "metadata": {},
   "outputs": [
    {
     "data": {
      "text/html": [
       "<table class=\"dataframe\">\n",
       "<caption>A tibble: 3 × 2</caption>\n",
       "<thead>\n",
       "\t<tr><th scope=col>name</th><th scope=col>math</th></tr>\n",
       "\t<tr><th scope=col>&lt;chr&gt;</th><th scope=col>&lt;dbl&gt;</th></tr>\n",
       "</thead>\n",
       "<tbody>\n",
       "\t<tr><td>Ben  </td><td>92</td></tr>\n",
       "\t<tr><td>Cathy</td><td>85</td></tr>\n",
       "\t<tr><td>Eva  </td><td>88</td></tr>\n",
       "</tbody>\n",
       "</table>\n"
      ],
      "text/latex": [
       "A tibble: 3 × 2\n",
       "\\begin{tabular}{ll}\n",
       " name & math\\\\\n",
       " <chr> & <dbl>\\\\\n",
       "\\hline\n",
       "\t Ben   & 92\\\\\n",
       "\t Cathy & 85\\\\\n",
       "\t Eva   & 88\\\\\n",
       "\\end{tabular}\n"
      ],
      "text/markdown": [
       "\n",
       "A tibble: 3 × 2\n",
       "\n",
       "| name &lt;chr&gt; | math &lt;dbl&gt; |\n",
       "|---|---|\n",
       "| Ben   | 92 |\n",
       "| Cathy | 85 |\n",
       "| Eva   | 88 |\n",
       "\n"
      ],
      "text/plain": [
       "  name  math\n",
       "1 Ben   92  \n",
       "2 Cathy 85  \n",
       "3 Eva   88  "
      ]
     },
     "metadata": {},
     "output_type": "display_data"
    }
   ],
   "source": [
    "students %>% filter(math > 80) %>% select(name, math)"
   ]
  },
  {
   "cell_type": "code",
   "execution_count": 65,
   "id": "4bfba20e-8a10-4f29-9a50-bc3c20f7ccb6",
   "metadata": {},
   "outputs": [
    {
     "data": {
      "text/html": [
       "<table class=\"dataframe\">\n",
       "<caption>A tibble: 2 × 5</caption>\n",
       "<thead>\n",
       "\t<tr><th scope=col>id</th><th scope=col>name</th><th scope=col>math</th><th scope=col>english</th><th scope=col>passed</th></tr>\n",
       "\t<tr><th scope=col>&lt;int&gt;</th><th scope=col>&lt;chr&gt;</th><th scope=col>&lt;dbl&gt;</th><th scope=col>&lt;dbl&gt;</th><th scope=col>&lt;lgl&gt;</th></tr>\n",
       "</thead>\n",
       "<tbody>\n",
       "\t<tr><td>2</td><td>Ben  </td><td>92</td><td>85</td><td>TRUE</td></tr>\n",
       "\t<tr><td>3</td><td>Cathy</td><td>85</td><td>90</td><td>TRUE</td></tr>\n",
       "</tbody>\n",
       "</table>\n"
      ],
      "text/latex": [
       "A tibble: 2 × 5\n",
       "\\begin{tabular}{lllll}\n",
       " id & name & math & english & passed\\\\\n",
       " <int> & <chr> & <dbl> & <dbl> & <lgl>\\\\\n",
       "\\hline\n",
       "\t 2 & Ben   & 92 & 85 & TRUE\\\\\n",
       "\t 3 & Cathy & 85 & 90 & TRUE\\\\\n",
       "\\end{tabular}\n"
      ],
      "text/markdown": [
       "\n",
       "A tibble: 2 × 5\n",
       "\n",
       "| id &lt;int&gt; | name &lt;chr&gt; | math &lt;dbl&gt; | english &lt;dbl&gt; | passed &lt;lgl&gt; |\n",
       "|---|---|---|---|---|\n",
       "| 2 | Ben   | 92 | 85 | TRUE |\n",
       "| 3 | Cathy | 85 | 90 | TRUE |\n",
       "\n"
      ],
      "text/plain": [
       "  id name  math english passed\n",
       "1 2  Ben   92   85      TRUE  \n",
       "2 3  Cathy 85   90      TRUE  "
      ]
     },
     "metadata": {},
     "output_type": "display_data"
    },
    {
     "data": {
      "text/html": [
       "<table class=\"dataframe\">\n",
       "<caption>A tibble: 2 × 5</caption>\n",
       "<thead>\n",
       "\t<tr><th scope=col>id</th><th scope=col>name</th><th scope=col>math</th><th scope=col>english</th><th scope=col>passed</th></tr>\n",
       "\t<tr><th scope=col>&lt;int&gt;</th><th scope=col>&lt;chr&gt;</th><th scope=col>&lt;dbl&gt;</th><th scope=col>&lt;dbl&gt;</th><th scope=col>&lt;lgl&gt;</th></tr>\n",
       "</thead>\n",
       "<tbody>\n",
       "\t<tr><td>2</td><td>Ben  </td><td>92</td><td>85</td><td>TRUE</td></tr>\n",
       "\t<tr><td>3</td><td>Cathy</td><td>85</td><td>90</td><td>TRUE</td></tr>\n",
       "</tbody>\n",
       "</table>\n"
      ],
      "text/latex": [
       "A tibble: 2 × 5\n",
       "\\begin{tabular}{lllll}\n",
       " id & name & math & english & passed\\\\\n",
       " <int> & <chr> & <dbl> & <dbl> & <lgl>\\\\\n",
       "\\hline\n",
       "\t 2 & Ben   & 92 & 85 & TRUE\\\\\n",
       "\t 3 & Cathy & 85 & 90 & TRUE\\\\\n",
       "\\end{tabular}\n"
      ],
      "text/markdown": [
       "\n",
       "A tibble: 2 × 5\n",
       "\n",
       "| id &lt;int&gt; | name &lt;chr&gt; | math &lt;dbl&gt; | english &lt;dbl&gt; | passed &lt;lgl&gt; |\n",
       "|---|---|---|---|---|\n",
       "| 2 | Ben   | 92 | 85 | TRUE |\n",
       "| 3 | Cathy | 85 | 90 | TRUE |\n",
       "\n"
      ],
      "text/plain": [
       "  id name  math english passed\n",
       "1 2  Ben   92   85      TRUE  \n",
       "2 3  Cathy 85   90      TRUE  "
      ]
     },
     "metadata": {},
     "output_type": "display_data"
    },
    {
     "data": {
      "text/html": [
       "<table class=\"dataframe\">\n",
       "<caption>A tibble: 5 × 2</caption>\n",
       "<thead>\n",
       "\t<tr><th scope=col>name</th><th scope=col>passed</th></tr>\n",
       "\t<tr><th scope=col>&lt;chr&gt;</th><th scope=col>&lt;lgl&gt;</th></tr>\n",
       "</thead>\n",
       "<tbody>\n",
       "\t<tr><td>Ann  </td><td> TRUE</td></tr>\n",
       "\t<tr><td>Ben  </td><td> TRUE</td></tr>\n",
       "\t<tr><td>Cathy</td><td> TRUE</td></tr>\n",
       "\t<tr><td>Dan  </td><td>FALSE</td></tr>\n",
       "\t<tr><td>Eva  </td><td> TRUE</td></tr>\n",
       "</tbody>\n",
       "</table>\n"
      ],
      "text/latex": [
       "A tibble: 5 × 2\n",
       "\\begin{tabular}{ll}\n",
       " name & passed\\\\\n",
       " <chr> & <lgl>\\\\\n",
       "\\hline\n",
       "\t Ann   &  TRUE\\\\\n",
       "\t Ben   &  TRUE\\\\\n",
       "\t Cathy &  TRUE\\\\\n",
       "\t Dan   & FALSE\\\\\n",
       "\t Eva   &  TRUE\\\\\n",
       "\\end{tabular}\n"
      ],
      "text/markdown": [
       "\n",
       "A tibble: 5 × 2\n",
       "\n",
       "| name &lt;chr&gt; | passed &lt;lgl&gt; |\n",
       "|---|---|\n",
       "| Ann   |  TRUE |\n",
       "| Ben   |  TRUE |\n",
       "| Cathy |  TRUE |\n",
       "| Dan   | FALSE |\n",
       "| Eva   |  TRUE |\n",
       "\n"
      ],
      "text/plain": [
       "  name  passed\n",
       "1 Ann    TRUE \n",
       "2 Ben    TRUE \n",
       "3 Cathy  TRUE \n",
       "4 Dan   FALSE \n",
       "5 Eva    TRUE "
      ]
     },
     "metadata": {},
     "output_type": "display_data"
    }
   ],
   "source": [
    "# Exercise\n",
    "# 1. Show students with english > 80\n",
    "# 2. Show students with math + english > 170\n",
    "# 3. Only show 'name' and 'passed'\n",
    "\n",
    "students %>% filter(english > 80)\n",
    "\n",
    "students %>% filter(english + math > 170)\n",
    "\n",
    "students %>% select(name, passed)"
   ]
  },
  {
   "cell_type": "code",
   "execution_count": 67,
   "id": "d083e9c5-3837-4b58-a138-333ab161230b",
   "metadata": {},
   "outputs": [
    {
     "data": {
      "text/html": [
       "<table class=\"dataframe\">\n",
       "<caption>A tibble: 5 × 6</caption>\n",
       "<thead>\n",
       "\t<tr><th scope=col>id</th><th scope=col>name</th><th scope=col>math</th><th scope=col>english</th><th scope=col>passed</th><th scope=col>avg_score</th></tr>\n",
       "\t<tr><th scope=col>&lt;int&gt;</th><th scope=col>&lt;chr&gt;</th><th scope=col>&lt;dbl&gt;</th><th scope=col>&lt;dbl&gt;</th><th scope=col>&lt;lgl&gt;</th><th scope=col>&lt;dbl&gt;</th></tr>\n",
       "</thead>\n",
       "<tbody>\n",
       "\t<tr><td>1</td><td>Ann  </td><td>78</td><td>70</td><td> TRUE</td><td>74.0</td></tr>\n",
       "\t<tr><td>2</td><td>Ben  </td><td>92</td><td>85</td><td> TRUE</td><td>88.5</td></tr>\n",
       "\t<tr><td>3</td><td>Cathy</td><td>85</td><td>90</td><td> TRUE</td><td>87.5</td></tr>\n",
       "\t<tr><td>4</td><td>Dan  </td><td>66</td><td>75</td><td>FALSE</td><td>70.5</td></tr>\n",
       "\t<tr><td>5</td><td>Eva  </td><td>88</td><td>80</td><td> TRUE</td><td>84.0</td></tr>\n",
       "</tbody>\n",
       "</table>\n"
      ],
      "text/latex": [
       "A tibble: 5 × 6\n",
       "\\begin{tabular}{llllll}\n",
       " id & name & math & english & passed & avg\\_score\\\\\n",
       " <int> & <chr> & <dbl> & <dbl> & <lgl> & <dbl>\\\\\n",
       "\\hline\n",
       "\t 1 & Ann   & 78 & 70 &  TRUE & 74.0\\\\\n",
       "\t 2 & Ben   & 92 & 85 &  TRUE & 88.5\\\\\n",
       "\t 3 & Cathy & 85 & 90 &  TRUE & 87.5\\\\\n",
       "\t 4 & Dan   & 66 & 75 & FALSE & 70.5\\\\\n",
       "\t 5 & Eva   & 88 & 80 &  TRUE & 84.0\\\\\n",
       "\\end{tabular}\n"
      ],
      "text/markdown": [
       "\n",
       "A tibble: 5 × 6\n",
       "\n",
       "| id &lt;int&gt; | name &lt;chr&gt; | math &lt;dbl&gt; | english &lt;dbl&gt; | passed &lt;lgl&gt; | avg_score &lt;dbl&gt; |\n",
       "|---|---|---|---|---|---|\n",
       "| 1 | Ann   | 78 | 70 |  TRUE | 74.0 |\n",
       "| 2 | Ben   | 92 | 85 |  TRUE | 88.5 |\n",
       "| 3 | Cathy | 85 | 90 |  TRUE | 87.5 |\n",
       "| 4 | Dan   | 66 | 75 | FALSE | 70.5 |\n",
       "| 5 | Eva   | 88 | 80 |  TRUE | 84.0 |\n",
       "\n"
      ],
      "text/plain": [
       "  id name  math english passed avg_score\n",
       "1 1  Ann   78   70       TRUE  74.0     \n",
       "2 2  Ben   92   85       TRUE  88.5     \n",
       "3 3  Cathy 85   90       TRUE  87.5     \n",
       "4 4  Dan   66   75      FALSE  70.5     \n",
       "5 5  Eva   88   80       TRUE  84.0     "
      ]
     },
     "metadata": {},
     "output_type": "display_data"
    }
   ],
   "source": [
    "students %>% mutate(avg_score = (math + english)/2)"
   ]
  },
  {
   "cell_type": "code",
   "execution_count": 69,
   "id": "821f9df9-a8a0-4685-9bff-e3f8cb6d7992",
   "metadata": {},
   "outputs": [
    {
     "data": {
      "text/html": [
       "<table class=\"dataframe\">\n",
       "<caption>A tibble: 5 × 6</caption>\n",
       "<thead>\n",
       "\t<tr><th scope=col>id</th><th scope=col>name</th><th scope=col>math</th><th scope=col>english</th><th scope=col>passed</th><th scope=col>status</th></tr>\n",
       "\t<tr><th scope=col>&lt;int&gt;</th><th scope=col>&lt;chr&gt;</th><th scope=col>&lt;dbl&gt;</th><th scope=col>&lt;dbl&gt;</th><th scope=col>&lt;lgl&gt;</th><th scope=col>&lt;chr&gt;</th></tr>\n",
       "</thead>\n",
       "<tbody>\n",
       "\t<tr><td>1</td><td>Ann  </td><td>78</td><td>70</td><td> TRUE</td><td>Passed</td></tr>\n",
       "\t<tr><td>2</td><td>Ben  </td><td>92</td><td>85</td><td> TRUE</td><td>Passed</td></tr>\n",
       "\t<tr><td>3</td><td>Cathy</td><td>85</td><td>90</td><td> TRUE</td><td>Passed</td></tr>\n",
       "\t<tr><td>4</td><td>Dan  </td><td>66</td><td>75</td><td>FALSE</td><td>Failed</td></tr>\n",
       "\t<tr><td>5</td><td>Eva  </td><td>88</td><td>80</td><td> TRUE</td><td>Passed</td></tr>\n",
       "</tbody>\n",
       "</table>\n"
      ],
      "text/latex": [
       "A tibble: 5 × 6\n",
       "\\begin{tabular}{llllll}\n",
       " id & name & math & english & passed & status\\\\\n",
       " <int> & <chr> & <dbl> & <dbl> & <lgl> & <chr>\\\\\n",
       "\\hline\n",
       "\t 1 & Ann   & 78 & 70 &  TRUE & Passed\\\\\n",
       "\t 2 & Ben   & 92 & 85 &  TRUE & Passed\\\\\n",
       "\t 3 & Cathy & 85 & 90 &  TRUE & Passed\\\\\n",
       "\t 4 & Dan   & 66 & 75 & FALSE & Failed\\\\\n",
       "\t 5 & Eva   & 88 & 80 &  TRUE & Passed\\\\\n",
       "\\end{tabular}\n"
      ],
      "text/markdown": [
       "\n",
       "A tibble: 5 × 6\n",
       "\n",
       "| id &lt;int&gt; | name &lt;chr&gt; | math &lt;dbl&gt; | english &lt;dbl&gt; | passed &lt;lgl&gt; | status &lt;chr&gt; |\n",
       "|---|---|---|---|---|---|\n",
       "| 1 | Ann   | 78 | 70 |  TRUE | Passed |\n",
       "| 2 | Ben   | 92 | 85 |  TRUE | Passed |\n",
       "| 3 | Cathy | 85 | 90 |  TRUE | Passed |\n",
       "| 4 | Dan   | 66 | 75 | FALSE | Failed |\n",
       "| 5 | Eva   | 88 | 80 |  TRUE | Passed |\n",
       "\n"
      ],
      "text/plain": [
       "  id name  math english passed status\n",
       "1 1  Ann   78   70       TRUE  Passed\n",
       "2 2  Ben   92   85       TRUE  Passed\n",
       "3 3  Cathy 85   90       TRUE  Passed\n",
       "4 4  Dan   66   75      FALSE  Failed\n",
       "5 5  Eva   88   80       TRUE  Passed"
      ]
     },
     "metadata": {},
     "output_type": "display_data"
    }
   ],
   "source": [
    "students %>% mutate(status = ifelse(passed == TRUE, 'Passed', 'Failed'))"
   ]
  },
  {
   "cell_type": "code",
   "execution_count": 71,
   "id": "c4fe7561-ac57-466f-a462-7a19ae6141df",
   "metadata": {},
   "outputs": [
    {
     "data": {
      "text/html": [
       "<table class=\"dataframe\">\n",
       "<caption>A tibble: 5 × 7</caption>\n",
       "<thead>\n",
       "\t<tr><th scope=col>id</th><th scope=col>name</th><th scope=col>math</th><th scope=col>english</th><th scope=col>passed</th><th scope=col>avg_score</th><th scope=col>grade</th></tr>\n",
       "\t<tr><th scope=col>&lt;int&gt;</th><th scope=col>&lt;chr&gt;</th><th scope=col>&lt;dbl&gt;</th><th scope=col>&lt;dbl&gt;</th><th scope=col>&lt;lgl&gt;</th><th scope=col>&lt;dbl&gt;</th><th scope=col>&lt;chr&gt;</th></tr>\n",
       "</thead>\n",
       "<tbody>\n",
       "\t<tr><td>1</td><td>Ann  </td><td>78</td><td>70</td><td> TRUE</td><td>74.0</td><td>C</td></tr>\n",
       "\t<tr><td>2</td><td>Ben  </td><td>92</td><td>85</td><td> TRUE</td><td>88.5</td><td>B</td></tr>\n",
       "\t<tr><td>3</td><td>Cathy</td><td>85</td><td>90</td><td> TRUE</td><td>87.5</td><td>B</td></tr>\n",
       "\t<tr><td>4</td><td>Dan  </td><td>66</td><td>75</td><td>FALSE</td><td>70.5</td><td>C</td></tr>\n",
       "\t<tr><td>5</td><td>Eva  </td><td>88</td><td>80</td><td> TRUE</td><td>84.0</td><td>B</td></tr>\n",
       "</tbody>\n",
       "</table>\n"
      ],
      "text/latex": [
       "A tibble: 5 × 7\n",
       "\\begin{tabular}{lllllll}\n",
       " id & name & math & english & passed & avg\\_score & grade\\\\\n",
       " <int> & <chr> & <dbl> & <dbl> & <lgl> & <dbl> & <chr>\\\\\n",
       "\\hline\n",
       "\t 1 & Ann   & 78 & 70 &  TRUE & 74.0 & C\\\\\n",
       "\t 2 & Ben   & 92 & 85 &  TRUE & 88.5 & B\\\\\n",
       "\t 3 & Cathy & 85 & 90 &  TRUE & 87.5 & B\\\\\n",
       "\t 4 & Dan   & 66 & 75 & FALSE & 70.5 & C\\\\\n",
       "\t 5 & Eva   & 88 & 80 &  TRUE & 84.0 & B\\\\\n",
       "\\end{tabular}\n"
      ],
      "text/markdown": [
       "\n",
       "A tibble: 5 × 7\n",
       "\n",
       "| id &lt;int&gt; | name &lt;chr&gt; | math &lt;dbl&gt; | english &lt;dbl&gt; | passed &lt;lgl&gt; | avg_score &lt;dbl&gt; | grade &lt;chr&gt; |\n",
       "|---|---|---|---|---|---|---|\n",
       "| 1 | Ann   | 78 | 70 |  TRUE | 74.0 | C |\n",
       "| 2 | Ben   | 92 | 85 |  TRUE | 88.5 | B |\n",
       "| 3 | Cathy | 85 | 90 |  TRUE | 87.5 | B |\n",
       "| 4 | Dan   | 66 | 75 | FALSE | 70.5 | C |\n",
       "| 5 | Eva   | 88 | 80 |  TRUE | 84.0 | B |\n",
       "\n"
      ],
      "text/plain": [
       "  id name  math english passed avg_score grade\n",
       "1 1  Ann   78   70       TRUE  74.0      C    \n",
       "2 2  Ben   92   85       TRUE  88.5      B    \n",
       "3 3  Cathy 85   90       TRUE  87.5      B    \n",
       "4 4  Dan   66   75      FALSE  70.5      C    \n",
       "5 5  Eva   88   80       TRUE  84.0      B    "
      ]
     },
     "metadata": {},
     "output_type": "display_data"
    }
   ],
   "source": [
    "students %>% mutate(avg_score = (math + english) / 2,\n",
    "                    grade = ifelse(avg_score >= 90, 'A',\n",
    "                                   ifelse(avg_score >= 80, 'B', 'C')))"
   ]
  },
  {
   "cell_type": "code",
   "execution_count": 77,
   "id": "1c74f74b-eb65-436a-b32d-44e27bcc647a",
   "metadata": {},
   "outputs": [
    {
     "data": {
      "text/html": [
       "<table class=\"dataframe\">\n",
       "<caption>A tibble: 5 × 5</caption>\n",
       "<thead>\n",
       "\t<tr><th scope=col>id</th><th scope=col>name</th><th scope=col>math</th><th scope=col>english</th><th scope=col>passed</th></tr>\n",
       "\t<tr><th scope=col>&lt;int&gt;</th><th scope=col>&lt;chr&gt;</th><th scope=col>&lt;dbl&gt;</th><th scope=col>&lt;dbl&gt;</th><th scope=col>&lt;lgl&gt;</th></tr>\n",
       "</thead>\n",
       "<tbody>\n",
       "\t<tr><td>4</td><td>Dan  </td><td>66</td><td>75</td><td>FALSE</td></tr>\n",
       "\t<tr><td>1</td><td>Ann  </td><td>78</td><td>70</td><td> TRUE</td></tr>\n",
       "\t<tr><td>3</td><td>Cathy</td><td>85</td><td>90</td><td> TRUE</td></tr>\n",
       "\t<tr><td>5</td><td>Eva  </td><td>88</td><td>80</td><td> TRUE</td></tr>\n",
       "\t<tr><td>2</td><td>Ben  </td><td>92</td><td>85</td><td> TRUE</td></tr>\n",
       "</tbody>\n",
       "</table>\n"
      ],
      "text/latex": [
       "A tibble: 5 × 5\n",
       "\\begin{tabular}{lllll}\n",
       " id & name & math & english & passed\\\\\n",
       " <int> & <chr> & <dbl> & <dbl> & <lgl>\\\\\n",
       "\\hline\n",
       "\t 4 & Dan   & 66 & 75 & FALSE\\\\\n",
       "\t 1 & Ann   & 78 & 70 &  TRUE\\\\\n",
       "\t 3 & Cathy & 85 & 90 &  TRUE\\\\\n",
       "\t 5 & Eva   & 88 & 80 &  TRUE\\\\\n",
       "\t 2 & Ben   & 92 & 85 &  TRUE\\\\\n",
       "\\end{tabular}\n"
      ],
      "text/markdown": [
       "\n",
       "A tibble: 5 × 5\n",
       "\n",
       "| id &lt;int&gt; | name &lt;chr&gt; | math &lt;dbl&gt; | english &lt;dbl&gt; | passed &lt;lgl&gt; |\n",
       "|---|---|---|---|---|\n",
       "| 4 | Dan   | 66 | 75 | FALSE |\n",
       "| 1 | Ann   | 78 | 70 |  TRUE |\n",
       "| 3 | Cathy | 85 | 90 |  TRUE |\n",
       "| 5 | Eva   | 88 | 80 |  TRUE |\n",
       "| 2 | Ben   | 92 | 85 |  TRUE |\n",
       "\n"
      ],
      "text/plain": [
       "  id name  math english passed\n",
       "1 4  Dan   66   75      FALSE \n",
       "2 1  Ann   78   70       TRUE \n",
       "3 3  Cathy 85   90       TRUE \n",
       "4 5  Eva   88   80       TRUE \n",
       "5 2  Ben   92   85       TRUE "
      ]
     },
     "metadata": {},
     "output_type": "display_data"
    },
    {
     "data": {
      "text/html": [
       "<table class=\"dataframe\">\n",
       "<caption>A tibble: 5 × 5</caption>\n",
       "<thead>\n",
       "\t<tr><th scope=col>id</th><th scope=col>name</th><th scope=col>math</th><th scope=col>english</th><th scope=col>passed</th></tr>\n",
       "\t<tr><th scope=col>&lt;int&gt;</th><th scope=col>&lt;chr&gt;</th><th scope=col>&lt;dbl&gt;</th><th scope=col>&lt;dbl&gt;</th><th scope=col>&lt;lgl&gt;</th></tr>\n",
       "</thead>\n",
       "<tbody>\n",
       "\t<tr><td>3</td><td>Cathy</td><td>85</td><td>90</td><td> TRUE</td></tr>\n",
       "\t<tr><td>2</td><td>Ben  </td><td>92</td><td>85</td><td> TRUE</td></tr>\n",
       "\t<tr><td>5</td><td>Eva  </td><td>88</td><td>80</td><td> TRUE</td></tr>\n",
       "\t<tr><td>4</td><td>Dan  </td><td>66</td><td>75</td><td>FALSE</td></tr>\n",
       "\t<tr><td>1</td><td>Ann  </td><td>78</td><td>70</td><td> TRUE</td></tr>\n",
       "</tbody>\n",
       "</table>\n"
      ],
      "text/latex": [
       "A tibble: 5 × 5\n",
       "\\begin{tabular}{lllll}\n",
       " id & name & math & english & passed\\\\\n",
       " <int> & <chr> & <dbl> & <dbl> & <lgl>\\\\\n",
       "\\hline\n",
       "\t 3 & Cathy & 85 & 90 &  TRUE\\\\\n",
       "\t 2 & Ben   & 92 & 85 &  TRUE\\\\\n",
       "\t 5 & Eva   & 88 & 80 &  TRUE\\\\\n",
       "\t 4 & Dan   & 66 & 75 & FALSE\\\\\n",
       "\t 1 & Ann   & 78 & 70 &  TRUE\\\\\n",
       "\\end{tabular}\n"
      ],
      "text/markdown": [
       "\n",
       "A tibble: 5 × 5\n",
       "\n",
       "| id &lt;int&gt; | name &lt;chr&gt; | math &lt;dbl&gt; | english &lt;dbl&gt; | passed &lt;lgl&gt; |\n",
       "|---|---|---|---|---|\n",
       "| 3 | Cathy | 85 | 90 |  TRUE |\n",
       "| 2 | Ben   | 92 | 85 |  TRUE |\n",
       "| 5 | Eva   | 88 | 80 |  TRUE |\n",
       "| 4 | Dan   | 66 | 75 | FALSE |\n",
       "| 1 | Ann   | 78 | 70 |  TRUE |\n",
       "\n"
      ],
      "text/plain": [
       "  id name  math english passed\n",
       "1 3  Cathy 85   90       TRUE \n",
       "2 2  Ben   92   85       TRUE \n",
       "3 5  Eva   88   80       TRUE \n",
       "4 4  Dan   66   75      FALSE \n",
       "5 1  Ann   78   70       TRUE "
      ]
     },
     "metadata": {},
     "output_type": "display_data"
    },
    {
     "data": {
      "text/html": [
       "<table class=\"dataframe\">\n",
       "<caption>A tibble: 5 × 5</caption>\n",
       "<thead>\n",
       "\t<tr><th scope=col>id</th><th scope=col>name</th><th scope=col>math</th><th scope=col>english</th><th scope=col>passed</th></tr>\n",
       "\t<tr><th scope=col>&lt;int&gt;</th><th scope=col>&lt;chr&gt;</th><th scope=col>&lt;dbl&gt;</th><th scope=col>&lt;dbl&gt;</th><th scope=col>&lt;lgl&gt;</th></tr>\n",
       "</thead>\n",
       "<tbody>\n",
       "\t<tr><td>3</td><td>Cathy</td><td>85</td><td>90</td><td> TRUE</td></tr>\n",
       "\t<tr><td>2</td><td>Ben  </td><td>92</td><td>85</td><td> TRUE</td></tr>\n",
       "\t<tr><td>5</td><td>Eva  </td><td>88</td><td>80</td><td> TRUE</td></tr>\n",
       "\t<tr><td>1</td><td>Ann  </td><td>78</td><td>70</td><td> TRUE</td></tr>\n",
       "\t<tr><td>4</td><td>Dan  </td><td>66</td><td>75</td><td>FALSE</td></tr>\n",
       "</tbody>\n",
       "</table>\n"
      ],
      "text/latex": [
       "A tibble: 5 × 5\n",
       "\\begin{tabular}{lllll}\n",
       " id & name & math & english & passed\\\\\n",
       " <int> & <chr> & <dbl> & <dbl> & <lgl>\\\\\n",
       "\\hline\n",
       "\t 3 & Cathy & 85 & 90 &  TRUE\\\\\n",
       "\t 2 & Ben   & 92 & 85 &  TRUE\\\\\n",
       "\t 5 & Eva   & 88 & 80 &  TRUE\\\\\n",
       "\t 1 & Ann   & 78 & 70 &  TRUE\\\\\n",
       "\t 4 & Dan   & 66 & 75 & FALSE\\\\\n",
       "\\end{tabular}\n"
      ],
      "text/markdown": [
       "\n",
       "A tibble: 5 × 5\n",
       "\n",
       "| id &lt;int&gt; | name &lt;chr&gt; | math &lt;dbl&gt; | english &lt;dbl&gt; | passed &lt;lgl&gt; |\n",
       "|---|---|---|---|---|\n",
       "| 3 | Cathy | 85 | 90 |  TRUE |\n",
       "| 2 | Ben   | 92 | 85 |  TRUE |\n",
       "| 5 | Eva   | 88 | 80 |  TRUE |\n",
       "| 1 | Ann   | 78 | 70 |  TRUE |\n",
       "| 4 | Dan   | 66 | 75 | FALSE |\n",
       "\n"
      ],
      "text/plain": [
       "  id name  math english passed\n",
       "1 3  Cathy 85   90       TRUE \n",
       "2 2  Ben   92   85       TRUE \n",
       "3 5  Eva   88   80       TRUE \n",
       "4 1  Ann   78   70       TRUE \n",
       "5 4  Dan   66   75      FALSE "
      ]
     },
     "metadata": {},
     "output_type": "display_data"
    }
   ],
   "source": [
    "students %>% arrange(math)\n",
    "\n",
    "students %>% arrange(desc(english))\n",
    "\n",
    "students %>% arrange(desc(passed), desc(english))"
   ]
  },
  {
   "cell_type": "code",
   "execution_count": 89,
   "id": "6d4b5b2c-fa36-498b-ba83-98bcd45ad798",
   "metadata": {},
   "outputs": [
    {
     "data": {
      "text/html": [
       "<table class=\"dataframe\">\n",
       "<caption>A tibble: 5 × 6</caption>\n",
       "<thead>\n",
       "\t<tr><th scope=col>id</th><th scope=col>name</th><th scope=col>math</th><th scope=col>english</th><th scope=col>passed</th><th scope=col>avg_score</th></tr>\n",
       "\t<tr><th scope=col>&lt;int&gt;</th><th scope=col>&lt;chr&gt;</th><th scope=col>&lt;dbl&gt;</th><th scope=col>&lt;dbl&gt;</th><th scope=col>&lt;lgl&gt;</th><th scope=col>&lt;dbl&gt;</th></tr>\n",
       "</thead>\n",
       "<tbody>\n",
       "\t<tr><td>2</td><td>Ben  </td><td>92</td><td>85</td><td> TRUE</td><td>88.5</td></tr>\n",
       "\t<tr><td>3</td><td>Cathy</td><td>85</td><td>90</td><td> TRUE</td><td>87.5</td></tr>\n",
       "\t<tr><td>5</td><td>Eva  </td><td>88</td><td>80</td><td> TRUE</td><td>84.0</td></tr>\n",
       "\t<tr><td>1</td><td>Ann  </td><td>78</td><td>70</td><td> TRUE</td><td>74.0</td></tr>\n",
       "\t<tr><td>4</td><td>Dan  </td><td>66</td><td>75</td><td>FALSE</td><td>70.5</td></tr>\n",
       "</tbody>\n",
       "</table>\n"
      ],
      "text/latex": [
       "A tibble: 5 × 6\n",
       "\\begin{tabular}{llllll}\n",
       " id & name & math & english & passed & avg\\_score\\\\\n",
       " <int> & <chr> & <dbl> & <dbl> & <lgl> & <dbl>\\\\\n",
       "\\hline\n",
       "\t 2 & Ben   & 92 & 85 &  TRUE & 88.5\\\\\n",
       "\t 3 & Cathy & 85 & 90 &  TRUE & 87.5\\\\\n",
       "\t 5 & Eva   & 88 & 80 &  TRUE & 84.0\\\\\n",
       "\t 1 & Ann   & 78 & 70 &  TRUE & 74.0\\\\\n",
       "\t 4 & Dan   & 66 & 75 & FALSE & 70.5\\\\\n",
       "\\end{tabular}\n"
      ],
      "text/markdown": [
       "\n",
       "A tibble: 5 × 6\n",
       "\n",
       "| id &lt;int&gt; | name &lt;chr&gt; | math &lt;dbl&gt; | english &lt;dbl&gt; | passed &lt;lgl&gt; | avg_score &lt;dbl&gt; |\n",
       "|---|---|---|---|---|---|\n",
       "| 2 | Ben   | 92 | 85 |  TRUE | 88.5 |\n",
       "| 3 | Cathy | 85 | 90 |  TRUE | 87.5 |\n",
       "| 5 | Eva   | 88 | 80 |  TRUE | 84.0 |\n",
       "| 1 | Ann   | 78 | 70 |  TRUE | 74.0 |\n",
       "| 4 | Dan   | 66 | 75 | FALSE | 70.5 |\n",
       "\n"
      ],
      "text/plain": [
       "  id name  math english passed avg_score\n",
       "1 2  Ben   92   85       TRUE  88.5     \n",
       "2 3  Cathy 85   90       TRUE  87.5     \n",
       "3 5  Eva   88   80       TRUE  84.0     \n",
       "4 1  Ann   78   70       TRUE  74.0     \n",
       "5 4  Dan   66   75      FALSE  70.5     "
      ]
     },
     "metadata": {},
     "output_type": "display_data"
    },
    {
     "data": {
      "text/html": [
       "<table class=\"dataframe\">\n",
       "<caption>A tibble: 5 × 6</caption>\n",
       "<thead>\n",
       "\t<tr><th scope=col>id</th><th scope=col>name</th><th scope=col>math</th><th scope=col>english</th><th scope=col>passed</th><th scope=col>avg_score</th></tr>\n",
       "\t<tr><th scope=col>&lt;int&gt;</th><th scope=col>&lt;chr&gt;</th><th scope=col>&lt;dbl&gt;</th><th scope=col>&lt;dbl&gt;</th><th scope=col>&lt;lgl&gt;</th><th scope=col>&lt;dbl&gt;</th></tr>\n",
       "</thead>\n",
       "<tbody>\n",
       "\t<tr><td>2</td><td>Ben  </td><td>92</td><td>85</td><td> TRUE</td><td>88.5</td></tr>\n",
       "\t<tr><td>3</td><td>Cathy</td><td>85</td><td>90</td><td> TRUE</td><td>87.5</td></tr>\n",
       "\t<tr><td>5</td><td>Eva  </td><td>88</td><td>80</td><td> TRUE</td><td>84.0</td></tr>\n",
       "\t<tr><td>1</td><td>Ann  </td><td>78</td><td>70</td><td> TRUE</td><td>74.0</td></tr>\n",
       "\t<tr><td>4</td><td>Dan  </td><td>66</td><td>75</td><td>FALSE</td><td>70.5</td></tr>\n",
       "</tbody>\n",
       "</table>\n"
      ],
      "text/latex": [
       "A tibble: 5 × 6\n",
       "\\begin{tabular}{llllll}\n",
       " id & name & math & english & passed & avg\\_score\\\\\n",
       " <int> & <chr> & <dbl> & <dbl> & <lgl> & <dbl>\\\\\n",
       "\\hline\n",
       "\t 2 & Ben   & 92 & 85 &  TRUE & 88.5\\\\\n",
       "\t 3 & Cathy & 85 & 90 &  TRUE & 87.5\\\\\n",
       "\t 5 & Eva   & 88 & 80 &  TRUE & 84.0\\\\\n",
       "\t 1 & Ann   & 78 & 70 &  TRUE & 74.0\\\\\n",
       "\t 4 & Dan   & 66 & 75 & FALSE & 70.5\\\\\n",
       "\\end{tabular}\n"
      ],
      "text/markdown": [
       "\n",
       "A tibble: 5 × 6\n",
       "\n",
       "| id &lt;int&gt; | name &lt;chr&gt; | math &lt;dbl&gt; | english &lt;dbl&gt; | passed &lt;lgl&gt; | avg_score &lt;dbl&gt; |\n",
       "|---|---|---|---|---|---|\n",
       "| 2 | Ben   | 92 | 85 |  TRUE | 88.5 |\n",
       "| 3 | Cathy | 85 | 90 |  TRUE | 87.5 |\n",
       "| 5 | Eva   | 88 | 80 |  TRUE | 84.0 |\n",
       "| 1 | Ann   | 78 | 70 |  TRUE | 74.0 |\n",
       "| 4 | Dan   | 66 | 75 | FALSE | 70.5 |\n",
       "\n"
      ],
      "text/plain": [
       "  id name  math english passed avg_score\n",
       "1 2  Ben   92   85       TRUE  88.5     \n",
       "2 3  Cathy 85   90       TRUE  87.5     \n",
       "3 5  Eva   88   80       TRUE  84.0     \n",
       "4 1  Ann   78   70       TRUE  74.0     \n",
       "5 4  Dan   66   75      FALSE  70.5     "
      ]
     },
     "metadata": {},
     "output_type": "display_data"
    },
    {
     "data": {
      "text/html": [
       "<table class=\"dataframe\">\n",
       "<caption>A tibble: 5 × 7</caption>\n",
       "<thead>\n",
       "\t<tr><th scope=col>id</th><th scope=col>name</th><th scope=col>math</th><th scope=col>english</th><th scope=col>passed</th><th scope=col>avg_score</th><th scope=col>grade</th></tr>\n",
       "\t<tr><th scope=col>&lt;int&gt;</th><th scope=col>&lt;chr&gt;</th><th scope=col>&lt;dbl&gt;</th><th scope=col>&lt;dbl&gt;</th><th scope=col>&lt;lgl&gt;</th><th scope=col>&lt;dbl&gt;</th><th scope=col>&lt;chr&gt;</th></tr>\n",
       "</thead>\n",
       "<tbody>\n",
       "\t<tr><td>2</td><td>Ben  </td><td>92</td><td>85</td><td> TRUE</td><td>88.5</td><td>A</td></tr>\n",
       "\t<tr><td>3</td><td>Cathy</td><td>85</td><td>90</td><td> TRUE</td><td>87.5</td><td>A</td></tr>\n",
       "\t<tr><td>5</td><td>Eva  </td><td>88</td><td>80</td><td> TRUE</td><td>84.0</td><td>B</td></tr>\n",
       "\t<tr><td>1</td><td>Ann  </td><td>78</td><td>70</td><td> TRUE</td><td>74.0</td><td>C</td></tr>\n",
       "\t<tr><td>4</td><td>Dan  </td><td>66</td><td>75</td><td>FALSE</td><td>70.5</td><td>C</td></tr>\n",
       "</tbody>\n",
       "</table>\n"
      ],
      "text/latex": [
       "A tibble: 5 × 7\n",
       "\\begin{tabular}{lllllll}\n",
       " id & name & math & english & passed & avg\\_score & grade\\\\\n",
       " <int> & <chr> & <dbl> & <dbl> & <lgl> & <dbl> & <chr>\\\\\n",
       "\\hline\n",
       "\t 2 & Ben   & 92 & 85 &  TRUE & 88.5 & A\\\\\n",
       "\t 3 & Cathy & 85 & 90 &  TRUE & 87.5 & A\\\\\n",
       "\t 5 & Eva   & 88 & 80 &  TRUE & 84.0 & B\\\\\n",
       "\t 1 & Ann   & 78 & 70 &  TRUE & 74.0 & C\\\\\n",
       "\t 4 & Dan   & 66 & 75 & FALSE & 70.5 & C\\\\\n",
       "\\end{tabular}\n"
      ],
      "text/markdown": [
       "\n",
       "A tibble: 5 × 7\n",
       "\n",
       "| id &lt;int&gt; | name &lt;chr&gt; | math &lt;dbl&gt; | english &lt;dbl&gt; | passed &lt;lgl&gt; | avg_score &lt;dbl&gt; | grade &lt;chr&gt; |\n",
       "|---|---|---|---|---|---|---|\n",
       "| 2 | Ben   | 92 | 85 |  TRUE | 88.5 | A |\n",
       "| 3 | Cathy | 85 | 90 |  TRUE | 87.5 | A |\n",
       "| 5 | Eva   | 88 | 80 |  TRUE | 84.0 | B |\n",
       "| 1 | Ann   | 78 | 70 |  TRUE | 74.0 | C |\n",
       "| 4 | Dan   | 66 | 75 | FALSE | 70.5 | C |\n",
       "\n"
      ],
      "text/plain": [
       "  id name  math english passed avg_score grade\n",
       "1 2  Ben   92   85       TRUE  88.5      A    \n",
       "2 3  Cathy 85   90       TRUE  87.5      A    \n",
       "3 5  Eva   88   80       TRUE  84.0      B    \n",
       "4 1  Ann   78   70       TRUE  74.0      C    \n",
       "5 4  Dan   66   75      FALSE  70.5      C    "
      ]
     },
     "metadata": {},
     "output_type": "display_data"
    }
   ],
   "source": [
    "# Exercise\n",
    "# 1. Arrnage based on avg_score from highest score to least\n",
    "# 2. Arrange based passed then avg_score\n",
    "# 3. Arrange based on grade.\n",
    "\n",
    "students %>% mutate(avg_score = (math + english)/2) %>% arrange(desc(avg_score))\n",
    "\n",
    "students %>% mutate(avg_score = (math + english)/2) %>% arrange(desc(passed), desc(avg_score))\n",
    "\n",
    "students %>% mutate(avg_score = (math + english)/2, \n",
    "                    grade = ifelse(avg_score > 85, 'A', \n",
    "                                   ifelse(avg_score > 80, 'B', 'C'))) %>% arrange(grade)\n"
   ]
  }
 ],
 "metadata": {
  "kernelspec": {
   "display_name": "R 4.4.3",
   "language": "R",
   "name": "r-4.4"
  },
  "language_info": {
   "codemirror_mode": "r",
   "file_extension": ".r",
   "mimetype": "text/x-r-source",
   "name": "R",
   "pygments_lexer": "r",
   "version": "4.4.3"
  }
 },
 "nbformat": 4,
 "nbformat_minor": 5
}
