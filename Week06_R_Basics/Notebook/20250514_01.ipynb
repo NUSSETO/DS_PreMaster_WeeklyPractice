{
 "cells": [
  {
   "cell_type": "code",
   "execution_count": 1,
   "id": "55fc4a5b-e259-4fea-953d-9d53746b7a6f",
   "metadata": {},
   "outputs": [
    {
     "name": "stderr",
     "output_type": "stream",
     "text": [
      "── \u001b[1mAttaching core tidyverse packages\u001b[22m ──────────────────────── tidyverse 2.0.0 ──\n",
      "\u001b[32m✔\u001b[39m \u001b[34mdplyr    \u001b[39m 1.1.4     \u001b[32m✔\u001b[39m \u001b[34mreadr    \u001b[39m 2.1.5\n",
      "\u001b[32m✔\u001b[39m \u001b[34mforcats  \u001b[39m 1.0.0     \u001b[32m✔\u001b[39m \u001b[34mstringr  \u001b[39m 1.5.1\n",
      "\u001b[32m✔\u001b[39m \u001b[34mggplot2  \u001b[39m 3.5.2     \u001b[32m✔\u001b[39m \u001b[34mtibble   \u001b[39m 3.2.1\n",
      "\u001b[32m✔\u001b[39m \u001b[34mlubridate\u001b[39m 1.9.4     \u001b[32m✔\u001b[39m \u001b[34mtidyr    \u001b[39m 1.3.1\n",
      "\u001b[32m✔\u001b[39m \u001b[34mpurrr    \u001b[39m 1.0.4     \n",
      "── \u001b[1mConflicts\u001b[22m ────────────────────────────────────────── tidyverse_conflicts() ──\n",
      "\u001b[31m✖\u001b[39m \u001b[34mdplyr\u001b[39m::\u001b[32mfilter()\u001b[39m masks \u001b[34mstats\u001b[39m::filter()\n",
      "\u001b[31m✖\u001b[39m \u001b[34mdplyr\u001b[39m::\u001b[32mlag()\u001b[39m    masks \u001b[34mstats\u001b[39m::lag()\n",
      "\u001b[36mℹ\u001b[39m Use the conflicted package (\u001b[3m\u001b[34m<http://conflicted.r-lib.org/>\u001b[39m\u001b[23m) to force all conflicts to become errors\n"
     ]
    }
   ],
   "source": [
    "library(tidyverse)"
   ]
  },
  {
   "cell_type": "code",
   "execution_count": 3,
   "id": "a6eba1c9-8aff-4596-bbc2-c4c4fb620585",
   "metadata": {},
   "outputs": [],
   "source": [
    "students = tibble(id = 1:5,\n",
    "                  name = c(\"Ann\", \"Ben\", \"Cathy\", \"Dan\", \"Eva\"),\n",
    "                  math = c(78, 92, 85, 66, 88),\n",
    "                  english = c(70, 85, 90, 75, 80),\n",
    "                  passed = c(TRUE, TRUE, TRUE, FALSE, TRUE))"
   ]
  },
  {
   "cell_type": "code",
   "execution_count": 7,
   "id": "c01e49f4-c887-4159-9540-ff668241545e",
   "metadata": {},
   "outputs": [
    {
     "data": {
      "text/html": [
       "<table class=\"dataframe\">\n",
       "<caption>A tibble: 2 × 4</caption>\n",
       "<thead>\n",
       "\t<tr><th scope=col>passed</th><th scope=col>avg_math</th><th scope=col>avg_eng</th><th scope=col>count</th></tr>\n",
       "\t<tr><th scope=col>&lt;lgl&gt;</th><th scope=col>&lt;dbl&gt;</th><th scope=col>&lt;dbl&gt;</th><th scope=col>&lt;int&gt;</th></tr>\n",
       "</thead>\n",
       "<tbody>\n",
       "\t<tr><td>FALSE</td><td>66.00</td><td>75.00</td><td>1</td></tr>\n",
       "\t<tr><td> TRUE</td><td>85.75</td><td>81.25</td><td>4</td></tr>\n",
       "</tbody>\n",
       "</table>\n"
      ],
      "text/latex": [
       "A tibble: 2 × 4\n",
       "\\begin{tabular}{llll}\n",
       " passed & avg\\_math & avg\\_eng & count\\\\\n",
       " <lgl> & <dbl> & <dbl> & <int>\\\\\n",
       "\\hline\n",
       "\t FALSE & 66.00 & 75.00 & 1\\\\\n",
       "\t  TRUE & 85.75 & 81.25 & 4\\\\\n",
       "\\end{tabular}\n"
      ],
      "text/markdown": [
       "\n",
       "A tibble: 2 × 4\n",
       "\n",
       "| passed &lt;lgl&gt; | avg_math &lt;dbl&gt; | avg_eng &lt;dbl&gt; | count &lt;int&gt; |\n",
       "|---|---|---|---|\n",
       "| FALSE | 66.00 | 75.00 | 1 |\n",
       "|  TRUE | 85.75 | 81.25 | 4 |\n",
       "\n"
      ],
      "text/plain": [
       "  passed avg_math avg_eng count\n",
       "1 FALSE  66.00    75.00   1    \n",
       "2  TRUE  85.75    81.25   4    "
      ]
     },
     "metadata": {},
     "output_type": "display_data"
    }
   ],
   "source": [
    "students %>% group_by(passed) %>% summarise(avg_math = mean(math),\n",
    "                                            avg_eng = mean(english),\n",
    "                                            count = n())"
   ]
  },
  {
   "cell_type": "code",
   "execution_count": 31,
   "id": "8653aaef-2fd6-457f-a21a-fa2dbc7edd89",
   "metadata": {},
   "outputs": [
    {
     "data": {
      "text/html": [
       "<table class=\"dataframe\">\n",
       "<caption>A tibble: 3 × 3</caption>\n",
       "<thead>\n",
       "\t<tr><th scope=col>passed</th><th scope=col>level</th><th scope=col>count</th></tr>\n",
       "\t<tr><th scope=col>&lt;lgl&gt;</th><th scope=col>&lt;chr&gt;</th><th scope=col>&lt;int&gt;</th></tr>\n",
       "</thead>\n",
       "<tbody>\n",
       "\t<tr><td>FALSE</td><td>low </td><td>1</td></tr>\n",
       "\t<tr><td> TRUE</td><td>high</td><td>2</td></tr>\n",
       "\t<tr><td> TRUE</td><td>low </td><td>2</td></tr>\n",
       "</tbody>\n",
       "</table>\n"
      ],
      "text/latex": [
       "A tibble: 3 × 3\n",
       "\\begin{tabular}{lll}\n",
       " passed & level & count\\\\\n",
       " <lgl> & <chr> & <int>\\\\\n",
       "\\hline\n",
       "\t FALSE & low  & 1\\\\\n",
       "\t  TRUE & high & 2\\\\\n",
       "\t  TRUE & low  & 2\\\\\n",
       "\\end{tabular}\n"
      ],
      "text/markdown": [
       "\n",
       "A tibble: 3 × 3\n",
       "\n",
       "| passed &lt;lgl&gt; | level &lt;chr&gt; | count &lt;int&gt; |\n",
       "|---|---|---|\n",
       "| FALSE | low  | 1 |\n",
       "|  TRUE | high | 2 |\n",
       "|  TRUE | low  | 2 |\n",
       "\n"
      ],
      "text/plain": [
       "  passed level count\n",
       "1 FALSE  low   1    \n",
       "2  TRUE  high  2    \n",
       "3  TRUE  low   2    "
      ]
     },
     "metadata": {},
     "output_type": "display_data"
    }
   ],
   "source": [
    "students %>% \n",
    "mutate(level = ifelse(math > 85, 'high', 'low')) %>% \n",
    "group_by(passed, level) %>% \n",
    "summarise(count = n(), .groups = 'drop')"
   ]
  },
  {
   "cell_type": "code",
   "execution_count": 37,
   "id": "18d4e03d-3d69-4cef-88dd-9a7457372721",
   "metadata": {},
   "outputs": [
    {
     "data": {
      "text/html": [
       "<table class=\"dataframe\">\n",
       "<caption>A tibble: 3 × 4</caption>\n",
       "<thead>\n",
       "\t<tr><th scope=col>grade</th><th scope=col>avg_math</th><th scope=col>avg_english</th><th scope=col>count</th></tr>\n",
       "\t<tr><th scope=col>&lt;chr&gt;</th><th scope=col>&lt;dbl&gt;</th><th scope=col>&lt;dbl&gt;</th><th scope=col>&lt;int&gt;</th></tr>\n",
       "</thead>\n",
       "<tbody>\n",
       "\t<tr><td>C</td><td>72.0</td><td>72.5</td><td>2</td></tr>\n",
       "\t<tr><td>B</td><td>88.0</td><td>80.0</td><td>1</td></tr>\n",
       "\t<tr><td>A</td><td>88.5</td><td>87.5</td><td>2</td></tr>\n",
       "</tbody>\n",
       "</table>\n"
      ],
      "text/latex": [
       "A tibble: 3 × 4\n",
       "\\begin{tabular}{llll}\n",
       " grade & avg\\_math & avg\\_english & count\\\\\n",
       " <chr> & <dbl> & <dbl> & <int>\\\\\n",
       "\\hline\n",
       "\t C & 72.0 & 72.5 & 2\\\\\n",
       "\t B & 88.0 & 80.0 & 1\\\\\n",
       "\t A & 88.5 & 87.5 & 2\\\\\n",
       "\\end{tabular}\n"
      ],
      "text/markdown": [
       "\n",
       "A tibble: 3 × 4\n",
       "\n",
       "| grade &lt;chr&gt; | avg_math &lt;dbl&gt; | avg_english &lt;dbl&gt; | count &lt;int&gt; |\n",
       "|---|---|---|---|\n",
       "| C | 72.0 | 72.5 | 2 |\n",
       "| B | 88.0 | 80.0 | 1 |\n",
       "| A | 88.5 | 87.5 | 2 |\n",
       "\n"
      ],
      "text/plain": [
       "  grade avg_math avg_english count\n",
       "1 C     72.0     72.5        2    \n",
       "2 B     88.0     80.0        1    \n",
       "3 A     88.5     87.5        2    "
      ]
     },
     "metadata": {},
     "output_type": "display_data"
    }
   ],
   "source": [
    "students %>%\n",
    "mutate(avg_score = (math + english)/2, \n",
    "       grade = ifelse(avg_score > 85, 'A', ifelse(avg_score > 80, 'B', 'C'))) %>%\n",
    "group_by(grade) %>%\n",
    "summarise(avg_math = mean(math),\n",
    "          avg_english = mean(english),\n",
    "          count = n()) %>%\n",
    "arrange(desc(grade))"
   ]
  }
 ],
 "metadata": {
  "kernelspec": {
   "display_name": "R 4.4.3",
   "language": "R",
   "name": "r-4.4"
  },
  "language_info": {
   "codemirror_mode": "r",
   "file_extension": ".r",
   "mimetype": "text/x-r-source",
   "name": "R",
   "pygments_lexer": "r",
   "version": "4.4.3"
  }
 },
 "nbformat": 4,
 "nbformat_minor": 5
}
